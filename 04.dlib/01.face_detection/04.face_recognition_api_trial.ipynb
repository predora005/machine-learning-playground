{
 "cells": [
  {
   "cell_type": "code",
   "execution_count": 1,
   "id": "f096e589",
   "metadata": {},
   "outputs": [],
   "source": [
    "import os\n",
    "import cv2\n",
    "import face_recognition"
   ]
  },
  {
   "cell_type": "markdown",
   "id": "f2d03540",
   "metadata": {},
   "source": [
    "# 画像のダウンロード"
   ]
  },
  {
   "cell_type": "code",
   "execution_count": 2,
   "id": "adf85029",
   "metadata": {},
   "outputs": [],
   "source": [
    "urls = [\n",
    "    'https://www.kantei.go.jp/jp/content/20210730_corona01.jpg',\n",
    "    'https://www.cnn.co.jp/storage/2020/04/13/347e81ac7c26f732f5fe7f9f21cda3a7/t/768/432/d/joe-biden-donald-trump-split-file-super-16-9.jpg',\n",
    "    'https://www.kensyu-center.jp/case/wp/wp-content/uploads/2016/02/08-04_33000000829_R.jpg',\n",
    "    'http://kf-camera.com/wp-content/uploads/2016/01/20160112_8.jpg',\n",
    "    'https://pictkan.com/uploads/converted/15/06/15/2380770682-cycling-664753-EkN-1280x853-MM-100.jpg']"
   ]
  },
  {
   "cell_type": "code",
   "execution_count": 3,
   "id": "19247189",
   "metadata": {},
   "outputs": [],
   "source": [
    "import subprocess\n",
    "\n",
    "# ホームディレクトリの下に'img'ディレクトリ作成\n",
    "imgdir = os.path.join(os.path.expanduser('~'), 'img')\n",
    "os.makedirs(imgdir, exist_ok=True)\n",
    "\n",
    "for url in urls:\n",
    "    fname = url[url.rfind('/')+1:]\n",
    "    imgpath = os.path.join(imgdir, fname)\n",
    "    \n",
    "    # 画像ファイルがなければダウンロードする。\n",
    "    if not os.path.isfile(imgpath):\n",
    "        result = subprocess.run(['curl', '-O', url], stdout=subprocess.DEVNULL, stderr=subprocess.DEVNULL, cwd=imgdir)"
   ]
  },
  {
   "cell_type": "markdown",
   "id": "5b6c9ab0",
   "metadata": {},
   "source": [
    "# 画像のダウンサンプリング"
   ]
  },
  {
   "cell_type": "code",
   "execution_count": 4,
   "id": "bd6607a4",
   "metadata": {},
   "outputs": [],
   "source": [
    "filelist = [ 'sample1.jpg',  'sample2.jpg', 'sample3.jpg', \n",
    "            '20210730_corona01.jpg', 'joe-biden-donald-trump-split-file-super-16-9.jpg',\n",
    "            '08-04_33000000829_R.jpg', '20160112_8.jpg', \n",
    "            '2380770682-cycling-664753-EkN-1280x853-MM-100.jpg']\n",
    "imgdir = os.path.join(os.path.expanduser('~'), 'img')\n",
    "filepaths = [os.path.join(imgdir, file) for file in filelist]"
   ]
  },
  {
   "cell_type": "code",
   "execution_count": 5,
   "id": "10e5bfa9",
   "metadata": {},
   "outputs": [],
   "source": [
    "for filepath in filepaths:\n",
    "    img = cv2.imread(filepath)\n",
    "\n",
    "    w, h = img.shape[:2]\n",
    "    scale = min(800/w, 800/h)\n",
    "    img = cv2.resize(img, dsize=None, fx=scale, fy=scale)\n",
    "    \n",
    "    cv2.imwrite(filepath, img)"
   ]
  },
  {
   "cell_type": "markdown",
   "id": "06e853e2",
   "metadata": {},
   "source": [
    "# 検出領域を可視化し保存する関数"
   ]
  },
  {
   "cell_type": "code",
   "execution_count": 6,
   "id": "e4a4a614",
   "metadata": {},
   "outputs": [],
   "source": [
    "def save_face_located_image(filepath, face_locations, prefix):\n",
    "    # 保存用の画像データを準備\n",
    "    save_img = cv2.imread(filepath)\n",
    "    \n",
    "    # 検出した範囲を保存用画像に短形表示\n",
    "    for face_location in face_locations:\n",
    "        y1, x2, y2, x1 = face_location\n",
    "        cv2.rectangle(save_img, (x1, y1), (x2, y2), color=(0,0,255), thickness=4)\n",
    "        \n",
    "    # 検出領域を示した画像を保存\n",
    "    filename = os.path.basename(filepath)\n",
    "    filedir = os.path.dirname(filepath)\n",
    "    save_filename = prefix + '_' + filename\n",
    "    save_imgpath = os.path.join(filedir, save_filename)\n",
    "    cv2.imwrite(save_imgpath, save_img)"
   ]
  },
  {
   "cell_type": "markdown",
   "id": "4727dbee",
   "metadata": {},
   "source": [
    "# HOG特徴量ベースの顔検出"
   ]
  },
  {
   "cell_type": "code",
   "execution_count": 7,
   "id": "8ae37cb3",
   "metadata": {},
   "outputs": [
    {
     "name": "stdout",
     "output_type": "stream",
     "text": [
      "------------------------------\n",
      "Processing file: sample1.jpg\n",
      "I found 1 face(s) in this photograph.\n",
      "A face is located at pixel location Top: 160, Left: 97, Bottom: 345, Right: 283\n",
      "------------------------------\n",
      "Processing file: sample2.jpg\n",
      "I found 4 face(s) in this photograph.\n",
      "A face is located at pixel location Top: 59, Left: 266, Bottom: 122, Right: 328\n",
      "A face is located at pixel location Top: 184, Left: 128, Bottom: 246, Right: 190\n",
      "A face is located at pixel location Top: 73, Left: 411, Bottom: 135, Right: 474\n",
      "A face is located at pixel location Top: 191, Left: 557, Bottom: 253, Right: 619\n",
      "------------------------------\n",
      "Processing file: sample3.jpg\n",
      "I found 1 face(s) in this photograph.\n",
      "A face is located at pixel location Top: 113, Left: 377, Bottom: 164, Right: 429\n",
      "------------------------------\n",
      "Processing file: 20210730_corona01.jpg\n",
      "I found 1 face(s) in this photograph.\n",
      "A face is located at pixel location Top: 139, Left: 339, Bottom: 268, Right: 468\n",
      "------------------------------\n",
      "Processing file: joe-biden-donald-trump-split-file-super-16-9.jpg\n",
      "I found 2 face(s) in this photograph.\n",
      "A face is located at pixel location Top: 82, Left: 111, Bottom: 350, Right: 379\n",
      "A face is located at pixel location Top: 93, Left: 439, Bottom: 316, Right: 662\n",
      "------------------------------\n",
      "Processing file: 08-04_33000000829_R.jpg\n",
      "I found 0 face(s) in this photograph.\n",
      "------------------------------\n",
      "Processing file: 20160112_8.jpg\n",
      "I found 0 face(s) in this photograph.\n",
      "------------------------------\n",
      "Processing file: 2380770682-cycling-664753-EkN-1280x853-MM-100.jpg\n",
      "I found 0 face(s) in this photograph.\n"
     ]
    }
   ],
   "source": [
    "for filepath in filepaths:\n",
    "    print(\"------------------------------\")\n",
    "    print(f\"Processing file: {os.path.basename(filepath)}\")\n",
    "    \n",
    "    # 画像読み込み\n",
    "    image = face_recognition.load_image_file(filepath)\n",
    "    \n",
    "    # HOGベースモデルの顔検出実行\n",
    "    face_locations = face_recognition.face_locations(image)\n",
    "    \n",
    "    # 検出した領域を表示\n",
    "    print(\"I found {} face(s) in this photograph.\".format(len(face_locations)))\n",
    "    for face_location in face_locations:\n",
    "        top, right, bottom, left = face_location\n",
    "        print(\"A face is located at pixel location Top: {}, Left: {}, Bottom: {}, Right: {}\".format(top, left, bottom, right))\n",
    "        \n",
    "    # 顔検出した領域を短形表示した画像を保存\n",
    "    save_face_located_image(filepath, face_locations, 'hog')"
   ]
  },
  {
   "cell_type": "markdown",
   "id": "0cb3eb1a",
   "metadata": {},
   "source": [
    "# CNNベースの顔検出"
   ]
  },
  {
   "cell_type": "code",
   "execution_count": 8,
   "id": "33059d90",
   "metadata": {},
   "outputs": [
    {
     "name": "stdout",
     "output_type": "stream",
     "text": [
      "------------------------------\n",
      "Processing file: sample1.jpg\n",
      "I found 1 face(s) in this photograph.\n",
      "A face is located at pixel location Top: 148, Left: 75, Bottom: 352, Right: 279\n",
      "------------------------------\n",
      "Processing file: sample2.jpg\n",
      "I found 5 face(s) in this photograph.\n",
      "A face is located at pixel location Top: 68, Left: 422, Bottom: 125, Right: 479\n",
      "A face is located at pixel location Top: 189, Left: 569, Bottom: 257, Right: 637\n",
      "A face is located at pixel location Top: 178, Left: 128, Bottom: 235, Right: 185\n",
      "A face is located at pixel location Top: 63, Left: 278, Bottom: 119, Right: 335\n",
      "A face is located at pixel location Top: 114, Left: 661, Bottom: 212, Right: 759\n",
      "------------------------------\n",
      "Processing file: sample3.jpg\n",
      "I found 4 face(s) in this photograph.\n",
      "A face is located at pixel location Top: 91, Left: 286, Bottom: 159, Right: 354\n",
      "A face is located at pixel location Top: 113, Left: 457, Bottom: 160, Right: 504\n",
      "A face is located at pixel location Top: 113, Left: 375, Bottom: 160, Right: 423\n",
      "A face is located at pixel location Top: 23, Left: 161, Bottom: 105, Right: 243\n",
      "------------------------------\n",
      "Processing file: 20210730_corona01.jpg\n",
      "I found 1 face(s) in this photograph.\n",
      "A face is located at pixel location Top: 142, Left: 347, Bottom: 260, Right: 465\n",
      "------------------------------\n",
      "Processing file: joe-biden-donald-trump-split-file-super-16-9.jpg\n",
      "I found 2 face(s) in this photograph.\n",
      "A face is located at pixel location Top: 88, Left: 106, Bottom: 333, Right: 351\n",
      "A face is located at pixel location Top: 88, Left: 404, Bottom: 333, Right: 648\n",
      "------------------------------\n",
      "Processing file: 08-04_33000000829_R.jpg\n",
      "I found 2 face(s) in this photograph.\n",
      "A face is located at pixel location Top: 277, Left: 369, Bottom: 317, Right: 408\n",
      "A face is located at pixel location Top: 245, Left: 533, Bottom: 285, Right: 572\n",
      "------------------------------\n",
      "Processing file: 20160112_8.jpg\n",
      "I found 1 face(s) in this photograph.\n",
      "A face is located at pixel location Top: 138, Left: 284, Bottom: 195, Right: 341\n",
      "------------------------------\n",
      "Processing file: 2380770682-cycling-664753-EkN-1280x853-MM-100.jpg\n",
      "I found 1 face(s) in this photograph.\n",
      "A face is located at pixel location Top: 140, Left: 572, Bottom: 197, Right: 629\n"
     ]
    }
   ],
   "source": [
    "for filepath in filepaths:\n",
    "    print(\"------------------------------\")\n",
    "    print(f\"Processing file: {os.path.basename(filepath)}\")\n",
    "    \n",
    "    # 画像読み込み\n",
    "    image = face_recognition.load_image_file(filepath)\n",
    "    \n",
    "    # CNNベースモデルの顔検出実行\n",
    "    face_locations = face_recognition.face_locations(image, number_of_times_to_upsample=1, model=\"cnn\")\n",
    "    \n",
    "    # 検出した領域を表示\n",
    "    print(\"I found {} face(s) in this photograph.\".format(len(face_locations)))\n",
    "    for face_location in face_locations:\n",
    "        top, right, bottom, left = face_location\n",
    "        print(\"A face is located at pixel location Top: {}, Left: {}, Bottom: {}, Right: {}\".format(top, left, bottom, right))\n",
    "        \n",
    "    # 顔検出した領域を短形表示した画像を保存\n",
    "    save_face_located_image(filepath, face_locations, 'cnn')"
   ]
  }
 ],
 "metadata": {
  "kernelspec": {
   "display_name": "Python 3 (ipykernel)",
   "language": "python",
   "name": "python3"
  },
  "language_info": {
   "codemirror_mode": {
    "name": "ipython",
    "version": 3
   },
   "file_extension": ".py",
   "mimetype": "text/x-python",
   "name": "python",
   "nbconvert_exporter": "python",
   "pygments_lexer": "ipython3",
   "version": "3.7.10"
  }
 },
 "nbformat": 4,
 "nbformat_minor": 5
}
