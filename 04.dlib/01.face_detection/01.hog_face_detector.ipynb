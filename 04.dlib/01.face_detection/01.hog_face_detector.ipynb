{
 "cells": [
  {
   "cell_type": "code",
   "execution_count": 1,
   "id": "f9436d5b",
   "metadata": {},
   "outputs": [],
   "source": [
    "import os\n",
    "import dlib\n",
    "import cv2"
   ]
  },
  {
   "cell_type": "code",
   "execution_count": 2,
   "id": "00b1a814",
   "metadata": {},
   "outputs": [],
   "source": [
    "# 顔検出器を取得\n",
    "detector = dlib.get_frontal_face_detector()\n",
    "#win = dlib.image_window()"
   ]
  },
  {
   "cell_type": "code",
   "execution_count": 3,
   "id": "d8e710f4",
   "metadata": {},
   "outputs": [],
   "source": [
    "filelist = [ 'sample1.jpg',  'sample2.jpg', 'sample3.jpg']"
   ]
  },
  {
   "cell_type": "code",
   "execution_count": 4,
   "id": "08dc47d8",
   "metadata": {},
   "outputs": [
    {
     "name": "stdout",
     "output_type": "stream",
     "text": [
      "------------------------------\n",
      "Processing file: sample1.jpg\n",
      "Number of faces detected: 1\n",
      "Detection 0: Left: 134 Top: 206 Right: 455 Bottom: 527\n",
      "------------------------------\n",
      "Processing file: sample2.jpg\n",
      "Number of faces detected: 4\n",
      "Detection 0: Left: 101 Top: 147 Right: 152 Bottom: 199\n",
      "Detection 1: Left: 210 Top: 49 Right: 262 Bottom: 101\n",
      "Detection 2: Left: 325 Top: 55 Right: 377 Bottom: 107\n",
      "Detection 3: Left: 446 Top: 153 Right: 498 Bottom: 205\n",
      "------------------------------\n",
      "Processing file: sample3.jpg\n",
      "Number of faces detected: 1\n",
      "Detection 0: Left: 299 Top: 89 Right: 343 Bottom: 132\n"
     ]
    }
   ],
   "source": [
    "for file in filelist:\n",
    "    \n",
    "    print(\"------------------------------\")\n",
    "    print(\"Processing file: {}\".format(file))\n",
    "    \n",
    "    # 画像を読み込み\n",
    "    imgdir = os.path.join(os.path.expanduser('~'), 'img')\n",
    "    imgpath = os.path.join(imgdir, file)\n",
    "    img = dlib.load_rgb_image(imgpath)\n",
    "    \n",
    "    # 第二引数はアップサンプリング(拡大)の回数\n",
    "    dets = detector(img, 1)\n",
    "    #dets, scores, idx = detector.run(img, 1, -1)\n",
    "    print(\"Number of faces detected: {}\".format(len(dets)))\n",
    "    \n",
    "    # 検出した範囲を表示\n",
    "    for i, d in enumerate(dets):\n",
    "        print(\"Detection {}: Left: {} Top: {} Right: {} Bottom: {}\".format(\n",
    "            i, d.left(), d.top(), d.right(), d.bottom()))\n",
    "        \n",
    "    # 保存用の画像データを準備\n",
    "    save_img = cv2.imread(imgpath)\n",
    "    \n",
    "    # 検出した範囲を保存用画像に短形表示\n",
    "    for d in dets:\n",
    "        x1, y1, x2, y2 = d.left(), d.top(), d.right(), d.bottom()\n",
    "        cv2.rectangle(save_img, (x1, y1), (x2, y2), color=(0,0,255), thickness=4)\n",
    "        \n",
    "    # 検出領域を示した画像を保存\n",
    "    save_file = 'dlib_' + file\n",
    "    save_imgpath = os.path.join(imgdir, save_file)\n",
    "    cv2.imwrite(save_imgpath, save_img)\n",
    "    \n",
    "    #win.clear_overlay()\n",
    "    #win.set_image(img)\n",
    "    #win.add_overlay(dets)\n",
    "    #dlib.hit_enter_to_continue()"
   ]
  },
  {
   "cell_type": "code",
   "execution_count": 5,
   "id": "240e94d9",
   "metadata": {},
   "outputs": [
    {
     "name": "stdout",
     "output_type": "stream",
     "text": [
      "------------------------------\n",
      "Processing file: sample1.jpg\n",
      "Detection [(134, 206) (455, 527)], score: 0.5904139076373007, face_type:2\n",
      "Detection [(141, 498) (409, 766)], score: -0.7469268450893916, face_type:3\n",
      "Detection [(125, 1010) (161, 1046)], score: -0.7642095983401345, face_type:4\n",
      "Detection [(55, 305) (98, 348)], score: -0.815978666673002, face_type:2\n",
      "Detection [(573, 870) (609, 906)], score: -0.9177183116772745, face_type:2\n",
      "Detection [(270, 171) (345, 246)], score: -0.939228042476612, face_type:1\n",
      "------------------------------\n",
      "Processing file: sample2.jpg\n",
      "Detection [(101, 147) (152, 199)], score: 2.2398508228792067, face_type:0\n",
      "Detection [(210, 49) (262, 101)], score: 2.1349826012916986, face_type:1\n",
      "Detection [(325, 55) (377, 107)], score: 1.57835485089497, face_type:1\n",
      "Detection [(446, 153) (498, 205)], score: 1.0782284890480462, face_type:1\n",
      "Detection [(561, 106) (597, 142)], score: -0.8876646961072061, face_type:2\n",
      "Detection [(461, 138) (497, 174)], score: -0.9027303159609841, face_type:4\n",
      "Detection [(255, 295) (344, 385)], score: -0.9184605087140176, face_type:2\n",
      "Detection [(381, 300) (424, 343)], score: -0.9242407641874437, face_type:0\n",
      "Detection [(193, 337) (245, 389)], score: -0.9605490173199747, face_type:2\n",
      "------------------------------\n",
      "Processing file: sample3.jpg\n",
      "Detection [(299, 89) (343, 132)], score: 2.0312632118365195, face_type:2\n",
      "Detection [(596, 285) (648, 337)], score: -0.6916471923688028, face_type:2\n",
      "Detection [(96, -13) (185, 86)], score: -0.8069736323820238, face_type:0\n",
      "Detection [(487, 118) (538, 170)], score: -0.8929136693850563, face_type:4\n",
      "Detection [(497, 20) (605, 128)], score: -0.9076731051139411, face_type:1\n",
      "Detection [(103, 152) (211, 259)], score: -0.9933327138796852, face_type:4\n"
     ]
    }
   ],
   "source": [
    "for file in filelist:\n",
    "    print(\"------------------------------\")\n",
    "    print(\"Processing file: {}\".format(file))\n",
    "    \n",
    "    # 画像を読み込み\n",
    "    imgdir = os.path.join(os.path.expanduser('~'), 'img')\n",
    "    imgpath = os.path.join(imgdir, file)\n",
    "    img = dlib.load_rgb_image(imgpath)\n",
    "    \n",
    "    # 検出結果のスコアを表示(第三引数は閾値。デフォルトは0.0)\n",
    "    dets, scores, idx = detector.run(img, 1, -1)\n",
    "    for i, d in enumerate(dets):\n",
    "        # idxは、どのサブ検出器にマッチしたか\n",
    "        print(\"Detection {}, score: {}, face_type:{}\".format(\n",
    "            d, scores[i], idx[i]))"
   ]
  },
  {
   "cell_type": "code",
   "execution_count": 6,
   "id": "09d73407",
   "metadata": {},
   "outputs": [
    {
     "name": "stdout",
     "output_type": "stream",
     "text": [
      "<class '_dlib_pybind11.fhog_object_detector'>\n"
     ]
    }
   ],
   "source": [
    "print(type(detector))"
   ]
  }
 ],
 "metadata": {
  "kernelspec": {
   "display_name": "Python 3 (ipykernel)",
   "language": "python",
   "name": "python3"
  },
  "language_info": {
   "codemirror_mode": {
    "name": "ipython",
    "version": 3
   },
   "file_extension": ".py",
   "mimetype": "text/x-python",
   "name": "python",
   "nbconvert_exporter": "python",
   "pygments_lexer": "ipython3",
   "version": "3.7.10"
  }
 },
 "nbformat": 4,
 "nbformat_minor": 5
}
