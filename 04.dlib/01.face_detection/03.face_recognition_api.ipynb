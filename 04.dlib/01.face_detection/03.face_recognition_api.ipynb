{
 "cells": [
  {
   "cell_type": "code",
   "execution_count": 1,
   "id": "f096e589",
   "metadata": {},
   "outputs": [],
   "source": [
    "import os\n",
    "import cv2\n",
    "import face_recognition"
   ]
  },
  {
   "cell_type": "code",
   "execution_count": 2,
   "id": "bd6607a4",
   "metadata": {},
   "outputs": [],
   "source": [
    "imgdir = os.path.join(os.path.expanduser('~'), 'img')\n",
    "filelist = [ 'sample1.jpg',  'sample2.jpg', 'sample3.jpg']\n",
    "filepaths = [os.path.join(imgdir, file) for file in filelist]"
   ]
  },
  {
   "cell_type": "code",
   "execution_count": 3,
   "id": "e4a4a614",
   "metadata": {},
   "outputs": [],
   "source": [
    "def save_face_located_image(filepath, face_locations, prefix):\n",
    "    # 保存用の画像データを準備\n",
    "    save_img = cv2.imread(filepath)\n",
    "    \n",
    "    # 検出した範囲を保存用画像に短形表示\n",
    "    for face_location in face_locations:\n",
    "        y1, x2, y2, x1 = face_location\n",
    "        cv2.rectangle(save_img, (x1, y1), (x2, y2), color=(0,0,255), thickness=4)\n",
    "        \n",
    "    # 検出領域を示した画像を保存\n",
    "    filename = os.path.basename(filepath)\n",
    "    filedir = os.path.dirname(filepath)\n",
    "    save_filename = prefix + '_' + filename\n",
    "    save_imgpath = os.path.join(filedir, save_filename)\n",
    "    cv2.imwrite(save_imgpath, save_img)"
   ]
  },
  {
   "cell_type": "code",
   "execution_count": 4,
   "id": "8ae37cb3",
   "metadata": {},
   "outputs": [
    {
     "name": "stdout",
     "output_type": "stream",
     "text": [
      "------------------------------\n",
      "I found 1 face(s) in this photograph.\n",
      "A face is located at pixel location Top: 206, Left: 134, Bottom: 527, Right: 455\n",
      "------------------------------\n",
      "I found 4 face(s) in this photograph.\n",
      "A face is located at pixel location Top: 147, Left: 101, Bottom: 199, Right: 152\n",
      "A face is located at pixel location Top: 49, Left: 210, Bottom: 101, Right: 262\n",
      "A face is located at pixel location Top: 55, Left: 325, Bottom: 107, Right: 377\n",
      "A face is located at pixel location Top: 153, Left: 446, Bottom: 205, Right: 498\n",
      "------------------------------\n",
      "I found 1 face(s) in this photograph.\n",
      "A face is located at pixel location Top: 89, Left: 299, Bottom: 132, Right: 343\n"
     ]
    }
   ],
   "source": [
    "for filepath in filepaths:\n",
    "    # 画像読み込み\n",
    "    image = face_recognition.load_image_file(filepath)\n",
    "    \n",
    "    # HOGベースモデルの顔検出実行\n",
    "    face_locations = face_recognition.face_locations(image)\n",
    "    \n",
    "    # 検出した領域を表示\n",
    "    print(\"------------------------------\")\n",
    "    print(\"I found {} face(s) in this photograph.\".format(len(face_locations)))\n",
    "    for face_location in face_locations:\n",
    "        top, right, bottom, left = face_location\n",
    "        print(\"A face is located at pixel location Top: {}, Left: {}, Bottom: {}, Right: {}\".format(top, left, bottom, right))\n",
    "        \n",
    "    # 顔検出した領域を短形表示した画像を保存\n",
    "    save_face_located_image(filepath, face_locations, 'hog')"
   ]
  },
  {
   "cell_type": "code",
   "execution_count": 5,
   "id": "33059d90",
   "metadata": {},
   "outputs": [
    {
     "name": "stdout",
     "output_type": "stream",
     "text": [
      "------------------------------\n",
      "I found 1 face(s) in this photograph.\n",
      "A face is located at pixel location Top: 172, Left: 87, Bottom: 525, Right: 439\n",
      "------------------------------\n",
      "I found 5 face(s) in this photograph.\n",
      "A face is located at pixel location Top: 145, Left: 105, Bottom: 185, Right: 144\n",
      "A face is located at pixel location Top: 60, Left: 337, Bottom: 107, Right: 384\n",
      "A face is located at pixel location Top: 89, Left: 534, Bottom: 171, Right: 616\n",
      "A face is located at pixel location Top: 153, Left: 457, Bottom: 209, Right: 514\n",
      "A face is located at pixel location Top: 45, Left: 222, Bottom: 93, Right: 269\n",
      "------------------------------\n",
      "I found 4 face(s) in this photograph.\n",
      "A face is located at pixel location Top: 23, Left: 134, Bottom: 80, Right: 191\n",
      "A face is located at pixel location Top: 89, Left: 361, Bottom: 129, Right: 400\n",
      "A face is located at pixel location Top: 75, Left: 220, Bottom: 132, Right: 277\n",
      "A face is located at pixel location Top: 89, Left: 301, Bottom: 129, Right: 340\n"
     ]
    }
   ],
   "source": [
    "for filepath in filepaths:\n",
    "    # 画像読み込み\n",
    "    image = face_recognition.load_image_file(filepath)\n",
    "    \n",
    "    # CNNベースモデルの顔検出実行\n",
    "    face_locations = face_recognition.face_locations(image, number_of_times_to_upsample=1, model=\"cnn\")\n",
    "    \n",
    "    # 検出した領域を表示\n",
    "    print(\"------------------------------\")\n",
    "    print(\"I found {} face(s) in this photograph.\".format(len(face_locations)))\n",
    "    for face_location in face_locations:\n",
    "        top, right, bottom, left = face_location\n",
    "        print(\"A face is located at pixel location Top: {}, Left: {}, Bottom: {}, Right: {}\".format(top, left, bottom, right))\n",
    "        \n",
    "    # 顔検出した領域を短形表示した画像を保存\n",
    "    save_face_located_image(filepath, face_locations, 'cnn')"
   ]
  }
 ],
 "metadata": {
  "kernelspec": {
   "display_name": "Python 3 (ipykernel)",
   "language": "python",
   "name": "python3"
  },
  "language_info": {
   "codemirror_mode": {
    "name": "ipython",
    "version": 3
   },
   "file_extension": ".py",
   "mimetype": "text/x-python",
   "name": "python",
   "nbconvert_exporter": "python",
   "pygments_lexer": "ipython3",
   "version": "3.7.10"
  }
 },
 "nbformat": 4,
 "nbformat_minor": 5
}
