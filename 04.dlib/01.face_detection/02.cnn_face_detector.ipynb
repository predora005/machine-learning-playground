{
 "cells": [
  {
   "cell_type": "code",
   "execution_count": 1,
   "id": "2260d619",
   "metadata": {},
   "outputs": [],
   "source": [
    "import os\n",
    "import cv2\n",
    "import dlib"
   ]
  },
  {
   "cell_type": "code",
   "execution_count": 2,
   "id": "3294010c",
   "metadata": {},
   "outputs": [],
   "source": [
    "detector_file = 'mmod_human_face_detector.dat'\n",
    "detector_path = os.path.join(os.path.expanduser('~'), detector_file)\n",
    "cnn_face_detector = dlib.cnn_face_detection_model_v1(detector_path)"
   ]
  },
  {
   "cell_type": "code",
   "execution_count": 3,
   "id": "61f4f5ef",
   "metadata": {},
   "outputs": [],
   "source": [
    "filelist = [ 'sample1.jpg',  'sample2.jpg', 'sample3.jpg']"
   ]
  },
  {
   "cell_type": "code",
   "execution_count": 4,
   "id": "a6c69f34",
   "metadata": {},
   "outputs": [
    {
     "name": "stdout",
     "output_type": "stream",
     "text": [
      "Processing file: sample1.jpg\n"
     ]
    },
    {
     "ename": "MemoryError",
     "evalue": "std::bad_alloc",
     "output_type": "error",
     "traceback": [
      "\u001b[0;31m---------------------------------------------------------------------------\u001b[0m",
      "\u001b[0;31mMemoryError\u001b[0m                               Traceback (most recent call last)",
      "\u001b[0;32m/tmp/ipykernel_3068/2886397609.py\u001b[0m in \u001b[0;36m<module>\u001b[0;34m\u001b[0m\n\u001b[1;32m      8\u001b[0m \u001b[0;34m\u001b[0m\u001b[0m\n\u001b[1;32m      9\u001b[0m     \u001b[0;31m# 顔検出を実行\u001b[0m\u001b[0;34m\u001b[0m\u001b[0;34m\u001b[0m\u001b[0;34m\u001b[0m\u001b[0m\n\u001b[0;32m---> 10\u001b[0;31m     \u001b[0mdets\u001b[0m \u001b[0;34m=\u001b[0m \u001b[0mcnn_face_detector\u001b[0m\u001b[0;34m(\u001b[0m\u001b[0mimg\u001b[0m\u001b[0;34m,\u001b[0m \u001b[0;36m1\u001b[0m\u001b[0;34m)\u001b[0m\u001b[0;34m\u001b[0m\u001b[0;34m\u001b[0m\u001b[0m\n\u001b[0m\u001b[1;32m     11\u001b[0m \u001b[0;34m\u001b[0m\u001b[0m\n\u001b[1;32m     12\u001b[0m     \u001b[0;31m# 検出した領域を出力\u001b[0m\u001b[0;34m\u001b[0m\u001b[0;34m\u001b[0m\u001b[0;34m\u001b[0m\u001b[0m\n",
      "\u001b[0;31mMemoryError\u001b[0m: std::bad_alloc"
     ]
    }
   ],
   "source": [
    "for file in filelist:\n",
    "    print(\"Processing file: {}\".format(file))\n",
    "    \n",
    "    # 画像を読み込み\n",
    "    imgdir = os.path.join(os.path.expanduser('~'), 'img')\n",
    "    imgpath = os.path.join(imgdir, file)\n",
    "    img = dlib.load_rgb_image(imgpath)\n",
    "    \n",
    "    # 顔検出を実行\n",
    "    dets = cnn_face_detector(img, 1)\n",
    "    \n",
    "    # 検出した領域を出力\n",
    "    print(\"Number of faces detected: {}\".format(len(dets)))\n",
    "    for i, d in enumerate(dets):\n",
    "        print(\"Detection {}: Left: {} Top: {} Right: {} Bottom: {} Confidence: {}\".format(\n",
    "            i, d.rect.left(), d.rect.top(), d.rect.right(), d.rect.bottom(), d.confidence))\n",
    "\n",
    "    # 保存用の画像データを準備\n",
    "    save_img = cv2.imread(imgpath)\n",
    "    \n",
    "    # 検出した範囲を保存用画像に短形表示\n",
    "    for d in dets:\n",
    "        x1, y1, x2, y2 = d.left(), d.top(), d.right(), d.bottom()\n",
    "        cv2.rectangle(save_img, (x1, y1), (x2, y2), color=(0,0,255), thickness=4)\n",
    "        \n",
    "    # 検出領域を示した画像を保存\n",
    "    save_file = 'dlib_cnn_' + file\n",
    "    save_imgpath = os.path.join(imgdir, save_file)\n",
    "    cv2.imwrite(save_imgpath, save_img)\n"
   ]
  }
 ],
 "metadata": {
  "kernelspec": {
   "display_name": "Python 3 (ipykernel)",
   "language": "python",
   "name": "python3"
  },
  "language_info": {
   "codemirror_mode": {
    "name": "ipython",
    "version": 3
   },
   "file_extension": ".py",
   "mimetype": "text/x-python",
   "name": "python",
   "nbconvert_exporter": "python",
   "pygments_lexer": "ipython3",
   "version": "3.7.10"
  }
 },
 "nbformat": 4,
 "nbformat_minor": 5
}
