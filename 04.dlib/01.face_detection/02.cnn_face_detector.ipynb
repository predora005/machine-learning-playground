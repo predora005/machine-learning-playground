{
 "cells": [
  {
   "cell_type": "code",
   "execution_count": 1,
   "id": "2260d619",
   "metadata": {},
   "outputs": [],
   "source": [
    "import os\n",
    "import cv2\n",
    "import dlib"
   ]
  },
  {
   "cell_type": "code",
   "execution_count": 2,
   "id": "3294010c",
   "metadata": {},
   "outputs": [],
   "source": [
    "detector_file = 'mmod_human_face_detector.dat'\n",
    "detector_path = os.path.join(os.path.expanduser('~'), detector_file)\n",
    "cnn_face_detector = dlib.cnn_face_detection_model_v1(detector_path)"
   ]
  },
  {
   "cell_type": "code",
   "execution_count": 3,
   "id": "61f4f5ef",
   "metadata": {},
   "outputs": [],
   "source": [
    "filelist = [ 'sample1.jpg',  'sample2.jpg', 'sample3.jpg']"
   ]
  },
  {
   "cell_type": "code",
   "execution_count": 4,
   "id": "a6c69f34",
   "metadata": {},
   "outputs": [
    {
     "name": "stdout",
     "output_type": "stream",
     "text": [
      "------------------------------\n",
      "Processing file: sample1.jpg\n",
      "Number of faces detected: 1\n",
      "Detection 0: Left: 87 Top: 172 Right: 439 Bottom: 525 Confidence: 1.0595098733901978\n",
      "------------------------------\n",
      "Processing file: sample2.jpg\n",
      "Number of faces detected: 5\n",
      "Detection 0: Left: 105 Top: 145 Right: 144 Bottom: 185 Confidence: 1.0781257152557373\n",
      "Detection 1: Left: 337 Top: 60 Right: 384 Bottom: 107 Confidence: 1.0712703466415405\n",
      "Detection 2: Left: 534 Top: 89 Right: 616 Bottom: 171 Confidence: 1.0664069652557373\n",
      "Detection 3: Left: 457 Top: 153 Right: 514 Bottom: 209 Confidence: 1.0597141981124878\n",
      "Detection 4: Left: 222 Top: 45 Right: 269 Bottom: 93 Confidence: 1.057167887687683\n",
      "------------------------------\n",
      "Processing file: sample3.jpg\n",
      "Number of faces detected: 4\n",
      "Detection 0: Left: 134 Top: 23 Right: 191 Bottom: 80 Confidence: 1.1683770418167114\n",
      "Detection 1: Left: 361 Top: 89 Right: 400 Bottom: 129 Confidence: 1.1042109727859497\n",
      "Detection 2: Left: 220 Top: 75 Right: 277 Bottom: 132 Confidence: 1.1028268337249756\n",
      "Detection 3: Left: 301 Top: 89 Right: 340 Bottom: 129 Confidence: 1.0571620464324951\n"
     ]
    }
   ],
   "source": [
    "for file in filelist:\n",
    "    print(\"------------------------------\")\n",
    "    print(\"Processing file: {}\".format(file))\n",
    "    \n",
    "    # 画像を読み込み\n",
    "    imgdir = os.path.join(os.path.expanduser('~'), 'img')\n",
    "    imgpath = os.path.join(imgdir, file)\n",
    "    img = dlib.load_rgb_image(imgpath)\n",
    "    \n",
    "    # 顔検出を実行\n",
    "    dets = cnn_face_detector(img, 1)\n",
    "    \n",
    "    # 検出した領域を出力\n",
    "    print(\"Number of faces detected: {}\".format(len(dets)))\n",
    "    for i, d in enumerate(dets):\n",
    "        print(\"Detection {}: Left: {} Top: {} Right: {} Bottom: {} Confidence: {}\".format(\n",
    "            i, d.rect.left(), d.rect.top(), d.rect.right(), d.rect.bottom(), d.confidence))\n",
    "\n",
    "    # 保存用の画像データを準備\n",
    "    save_img = cv2.imread(imgpath)\n",
    "    \n",
    "    # 検出した範囲を保存用画像に短形表示\n",
    "    for d in dets:\n",
    "        x1, y1, x2, y2 = d.rect.left(), d.rect.top(), d.rect.right(), d.rect.bottom()\n",
    "        cv2.rectangle(save_img, (x1, y1), (x2, y2), color=(0,0,255), thickness=4)\n",
    "        \n",
    "    # 検出領域を示した画像を保存\n",
    "    save_file = 'dlib_cnn_' + file\n",
    "    save_imgpath = os.path.join(imgdir, save_file)\n",
    "    cv2.imwrite(save_imgpath, save_img)\n"
   ]
  }
 ],
 "metadata": {
  "kernelspec": {
   "display_name": "Python 3 (ipykernel)",
   "language": "python",
   "name": "python3"
  },
  "language_info": {
   "codemirror_mode": {
    "name": "ipython",
    "version": 3
   },
   "file_extension": ".py",
   "mimetype": "text/x-python",
   "name": "python",
   "nbconvert_exporter": "python",
   "pygments_lexer": "ipython3",
   "version": "3.7.10"
  }
 },
 "nbformat": 4,
 "nbformat_minor": 5
}
