{
 "cells": [
  {
   "cell_type": "code",
   "execution_count": 1,
   "id": "805ff6db",
   "metadata": {},
   "outputs": [],
   "source": [
    "%matplotlib inline\n",
    "import matplotlib.pyplot as plt"
   ]
  },
  {
   "cell_type": "code",
   "execution_count": 2,
   "id": "ef7e457f",
   "metadata": {},
   "outputs": [],
   "source": [
    "import autogluon.core as ag\n",
    "from autogluon.vision import ObjectDetector"
   ]
  },
  {
   "cell_type": "code",
   "execution_count": null,
   "id": "0bc4e3c7",
   "metadata": {},
   "outputs": [],
   "source": [
    "dataset_train = ObjectDetector.Dataset.from_voc('~/VOCdevkit/VOC2012', splits='train')"
   ]
  },
  {
   "cell_type": "code",
   "execution_count": null,
   "id": "77601053",
   "metadata": {},
   "outputs": [],
   "source": [
    "detector = ObjectDetector()\n",
    "\n",
    "time_limit = 60*5 # 5 minutes\n",
    "detector.fit(dataset_train, time_limit=time_limit)"
   ]
  },
  {
   "cell_type": "code",
   "execution_count": null,
   "id": "b0f78433",
   "metadata": {},
   "outputs": [],
   "source": [
    "detector.save('face_detector.ag')"
   ]
  },
  {
   "cell_type": "code",
   "execution_count": null,
   "id": "a1507504",
   "metadata": {},
   "outputs": [],
   "source": []
  },
  {
   "cell_type": "markdown",
   "id": "6614cd94",
   "metadata": {},
   "source": [
    "# Show results"
   ]
  },
  {
   "cell_type": "code",
   "execution_count": null,
   "id": "d0839704",
   "metadata": {},
   "outputs": [],
   "source": [
    "image0_path = dataset_test.iloc[0]['image']\n",
    "result = detector.predict(image0_path).query('predict_score >= 0.7')"
   ]
  },
  {
   "cell_type": "code",
   "execution_count": null,
   "id": "99b88db2",
   "metadata": {},
   "outputs": [],
   "source": [
    "import numpy as np\n",
    "from PIL import Image\n",
    "\n",
    "im0 = Image.open(image0_path)\n",
    "width, height = im0.size\n",
    "image0 = np.array(im0)"
   ]
  },
  {
   "cell_type": "code",
   "execution_count": null,
   "id": "597051b0",
   "metadata": {},
   "outputs": [],
   "source": [
    "bboxes=[]\n",
    "for rois in result['predict_rois']:\n",
    "    x1, y1 = int(rois['xmin']* width), int(rois['ymin']* height)\n",
    "    x2, y2 = int(rois['xmax']* width), int(rois['ymax']* height)\n",
    "    bboxes.append([x1, y1, x2, y2])\n",
    "    \n",
    "bboxes = np.array(bboxes)"
   ]
  },
  {
   "cell_type": "code",
   "execution_count": null,
   "id": "fe3d205f",
   "metadata": {},
   "outputs": [],
   "source": [
    "scores = result['predict_score'].values\n",
    "labels , class_names = selected_result['predict_class'].factorize()"
   ]
  },
  {
   "cell_type": "code",
   "execution_count": null,
   "id": "922ddfa0",
   "metadata": {},
   "outputs": [],
   "source": [
    "from gluoncv.utils import viz\n",
    "\n",
    "ax = viz.plot_bbox(image0, bboxes=bboxes, scores=scores, \n",
    "                   labels = labels, class_names=class_names)\n",
    "plt.show()"
   ]
  }
 ],
 "metadata": {
  "kernelspec": {
   "display_name": "Python 3",
   "language": "python",
   "name": "python3"
  },
  "language_info": {
   "codemirror_mode": {
    "name": "ipython",
    "version": 3
   },
   "file_extension": ".py",
   "mimetype": "text/x-python",
   "name": "python",
   "nbconvert_exporter": "python",
   "pygments_lexer": "ipython3",
   "version": "3.7.9"
  }
 },
 "nbformat": 4,
 "nbformat_minor": 5
}
