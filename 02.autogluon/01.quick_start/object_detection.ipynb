{
 "cells": [
  {
   "cell_type": "code",
   "execution_count": 1,
   "id": "5fb93b78",
   "metadata": {},
   "outputs": [],
   "source": [
    "%matplotlib inline"
   ]
  },
  {
   "cell_type": "code",
   "execution_count": 2,
   "id": "61850dea",
   "metadata": {},
   "outputs": [],
   "source": [
    "import autogluon.core as ag\n",
    "from autogluon.vision import ObjectDetector"
   ]
  },
  {
   "cell_type": "code",
   "execution_count": 3,
   "id": "c2d00634",
   "metadata": {},
   "outputs": [],
   "source": [
    "#url = './tiny_motorbike.zip'\n",
    "#dataset_train = ObjectDetector.Dataset.from_voc('tiny_motorbike', splits='trainval')\n",
    "#print(dataset_train)"
   ]
  },
  {
   "cell_type": "code",
   "execution_count": 4,
   "id": "894fca86",
   "metadata": {},
   "outputs": [
    {
     "name": "stdout",
     "output_type": "stream",
     "text": [
      "tiny_motorbike/\n",
      "├── Annotations/\n",
      "├── ImageSets/\n",
      "└── JPEGImages/\n"
     ]
    }
   ],
   "source": [
    "url = 'https://autogluon.s3.amazonaws.com/datasets/tiny_motorbike.zip'\n",
    "dataset_train = ObjectDetector.Dataset.from_voc(url, splits='trainval')"
   ]
  },
  {
   "cell_type": "code",
   "execution_count": null,
   "id": "1b68f07e",
   "metadata": {},
   "outputs": [
    {
     "name": "stderr",
     "output_type": "stream",
     "text": [
      "INFO:gluoncv.auto.tasks.object_detection:No GPU detected/allowed, using most conservative search space.\n",
      "INFO:gluoncv.auto.tasks.object_detection:Randomly split train_data into train[153]/validation[17] splits.\n",
      "INFO:gluoncv.auto.tasks.object_detection:Starting fit without HPO\n",
      "INFO:SSDEstimator:modified configs(<old> != <new>): {\n",
      "INFO:SSDEstimator:root.train.early_stop_max_value 1.0 != inf\n",
      "INFO:SSDEstimator:root.train.batch_size 16 != 8\n",
      "INFO:SSDEstimator:root.train.epochs    20 != 5\n",
      "INFO:SSDEstimator:root.train.seed      233 != 568\n",
      "INFO:SSDEstimator:root.train.early_stop_patience -1 != 10\n",
      "INFO:SSDEstimator:root.train.early_stop_baseline 0.0 != -inf\n",
      "INFO:SSDEstimator:root.gpus            (0, 1, 2, 3) != ()\n",
      "INFO:SSDEstimator:root.dataset         voc_tiny != auto\n",
      "INFO:SSDEstimator:root.valid.batch_size 16 != 8\n",
      "INFO:SSDEstimator:root.dataset_root    ~/.mxnet/datasets/ != auto\n",
      "INFO:SSDEstimator:root.num_workers     4 != 2\n",
      "INFO:SSDEstimator:root.ssd.transfer    ssd_512_resnet50_v1_coco != ssd_512_mobilenet1.0_coco\n",
      "INFO:SSDEstimator:root.ssd.base_network vgg16_atrous != mobilenet1.0\n",
      "INFO:SSDEstimator:root.ssd.data_shape  300 != 512\n",
      "INFO:SSDEstimator:}\n",
      "INFO:SSDEstimator:Saved config to /home/jupyter/machine-learning-playground/02.autogluon/01.quick_start/cd3fc01c/.trial_0/config.yaml\n",
      "INFO:SSDEstimator:Using transfer learning from ssd_512_mobilenet1.0_coco, the other network parameters are ignored.\n",
      "INFO:SSDEstimator:Start training from [Epoch 0]\n",
      "Exception in thread Thread-4:\n",
      "Traceback (most recent call last):\n",
      "  File \"/usr/lib64/python3.7/threading.py\", line 926, in _bootstrap_inner\n",
      "    self.run()\n",
      "  File \"/usr/lib64/python3.7/threading.py\", line 870, in run\n",
      "    self._target(*self._args, **self._kwargs)\n",
      "  File \"/usr/lib64/python3.7/multiprocessing/pool.py\", line 412, in _handle_workers\n",
      "    pool._maintain_pool()\n",
      "  File \"/usr/lib64/python3.7/multiprocessing/pool.py\", line 248, in _maintain_pool\n",
      "    self._repopulate_pool()\n",
      "  File \"/usr/lib64/python3.7/multiprocessing/pool.py\", line 241, in _repopulate_pool\n",
      "    w.start()\n",
      "  File \"/usr/lib64/python3.7/multiprocessing/process.py\", line 112, in start\n",
      "    self._popen = self._Popen(self)\n",
      "  File \"/usr/lib64/python3.7/multiprocessing/context.py\", line 277, in _Popen\n",
      "    return Popen(process_obj)\n",
      "  File \"/usr/lib64/python3.7/multiprocessing/popen_fork.py\", line 20, in __init__\n",
      "    self._launch(process_obj)\n",
      "  File \"/usr/lib64/python3.7/multiprocessing/popen_fork.py\", line 70, in _launch\n",
      "    self.pid = os.fork()\n",
      "OSError: [Errno 12] Cannot allocate memory\n",
      "\n"
     ]
    }
   ],
   "source": [
    "time_limit = 60*30  # at most 0.5 hour\n",
    "detector = ObjectDetector()\n",
    "hyperparameters = {'epochs': 5, 'batch_size': 8}\n",
    "hyperparamter_tune_kwargs={'num_trials': 2}\n",
    "detector.fit(dataset_train, time_limit=time_limit, hyperparameters=hyperparameters, hyperparamter_tune_kwargs=hyperparamter_tune_kwargs)"
   ]
  },
  {
   "cell_type": "code",
   "execution_count": null,
   "id": "66c46fbf",
   "metadata": {},
   "outputs": [],
   "source": []
  },
  {
   "cell_type": "code",
   "execution_count": null,
   "id": "edabca7d",
   "metadata": {},
   "outputs": [],
   "source": []
  }
 ],
 "metadata": {
  "kernelspec": {
   "display_name": "Python 3",
   "language": "python",
   "name": "python3"
  },
  "language_info": {
   "codemirror_mode": {
    "name": "ipython",
    "version": 3
   },
   "file_extension": ".py",
   "mimetype": "text/x-python",
   "name": "python",
   "nbconvert_exporter": "python",
   "pygments_lexer": "ipython3",
   "version": "3.7.9"
  }
 },
 "nbformat": 4,
 "nbformat_minor": 5
}
