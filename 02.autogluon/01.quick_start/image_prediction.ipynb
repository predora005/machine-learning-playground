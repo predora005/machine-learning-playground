{
 "cells": [
  {
   "cell_type": "code",
   "execution_count": 1,
   "id": "d0e7aa70",
   "metadata": {},
   "outputs": [],
   "source": [
    "%matplotlib inline\n",
    "import matplotlib.pyplot as plt"
   ]
  },
  {
   "cell_type": "code",
   "execution_count": 2,
   "id": "65e6a780",
   "metadata": {},
   "outputs": [],
   "source": [
    "import autogluon.core as ag\n",
    "from autogluon.vision import ImagePredictor"
   ]
  },
  {
   "cell_type": "code",
   "execution_count": 3,
   "id": "b17d37a0",
   "metadata": {},
   "outputs": [
    {
     "name": "stdout",
     "output_type": "stream",
     "text": [
      "                                                 image  label\n",
      "0    /home/jupyter/data/train/BabyPants/BabyPants_1...      0\n",
      "1    /home/jupyter/data/train/BabyPants/BabyPants_1...      0\n",
      "2    /home/jupyter/data/train/BabyPants/BabyPants_1...      0\n",
      "3    /home/jupyter/data/train/BabyPants/BabyPants_1...      0\n",
      "4    /home/jupyter/data/train/BabyPants/BabyPants_1...      0\n",
      "..                                                 ...    ...\n",
      "795  /home/jupyter/data/train/womenchiffontop/women...      3\n",
      "796  /home/jupyter/data/train/womenchiffontop/women...      3\n",
      "797  /home/jupyter/data/train/womenchiffontop/women...      3\n",
      "798  /home/jupyter/data/train/womenchiffontop/women...      3\n",
      "799  /home/jupyter/data/train/womenchiffontop/women...      3\n",
      "\n",
      "[800 rows x 2 columns]\n"
     ]
    }
   ],
   "source": [
    "train_dataset, _, test_dataset = ImagePredictor.Dataset.from_folders('~/data')\n",
    "print(train_dataset)"
   ]
  },
  {
   "cell_type": "code",
   "execution_count": 4,
   "id": "b56f429b",
   "metadata": {},
   "outputs": [
    {
     "name": "stderr",
     "output_type": "stream",
     "text": [
      "INFO:root:`time_limit=auto` set to `time_limit=7200`.\n",
      "INFO:root:Reset labels to [0, 1, 2, 3]\n",
      "INFO:gluoncv.auto.tasks.image_classification:No GPU detected/allowed, using most conservative search space.\n",
      "INFO:gluoncv.auto.tasks.image_classification:Randomly split train_data into train[710]/validation[90] splits.\n",
      "INFO:gluoncv.auto.tasks.image_classification:Starting fit without HPO\n",
      "INFO:ImageClassificationEstimator:modified configs(<old> != <new>): {\n",
      "INFO:ImageClassificationEstimator:root.gpus            (0,) != ()\n",
      "INFO:ImageClassificationEstimator:root.valid.batch_size 128 != 8\n",
      "INFO:ImageClassificationEstimator:root.train.early_stop_max_value 1.0 != inf\n",
      "INFO:ImageClassificationEstimator:root.train.rec_train_idx ~/.mxnet/datasets/imagenet/rec/train.idx != auto\n",
      "INFO:ImageClassificationEstimator:root.train.rec_train ~/.mxnet/datasets/imagenet/rec/train.rec != auto\n",
      "INFO:ImageClassificationEstimator:root.train.epochs    10 != 2\n",
      "INFO:ImageClassificationEstimator:root.train.early_stop_patience -1 != 10\n",
      "INFO:ImageClassificationEstimator:root.train.lr        0.1 != 0.01\n",
      "INFO:ImageClassificationEstimator:root.train.rec_val   ~/.mxnet/datasets/imagenet/rec/val.rec != auto\n",
      "INFO:ImageClassificationEstimator:root.train.early_stop_baseline 0.0 != -inf\n",
      "INFO:ImageClassificationEstimator:root.train.num_training_samples 1281167 != -1\n",
      "INFO:ImageClassificationEstimator:root.train.data_dir  ~/.mxnet/datasets/imagenet != auto\n",
      "INFO:ImageClassificationEstimator:root.train.batch_size 128 != 8\n",
      "INFO:ImageClassificationEstimator:root.train.rec_val_idx ~/.mxnet/datasets/imagenet/rec/val.idx != auto\n",
      "INFO:ImageClassificationEstimator:root.img_cls.model   resnet50_v1 != resnet18_v1b\n",
      "INFO:ImageClassificationEstimator:}\n",
      "INFO:ImageClassificationEstimator:Saved config to /home/jupyter/machine-learning-playground/02.autogluon/01.quick_start/04d58208/.trial_0/config.yaml\n",
      "INFO:ImageClassificationEstimator:Start training from [Epoch 0]\n",
      "INFO:ImageClassificationEstimator:Epoch[0] Batch [49]\tSpeed: 15.343631 samples/sec\taccuracy=0.367500\tlr=0.010000\n",
      "INFO:ImageClassificationEstimator:Epoch[0] Batch [99]\tSpeed: 15.592193 samples/sec\taccuracy=0.478750\tlr=0.010000\n",
      "INFO:ImageClassificationEstimator:[Epoch 0] training: accuracy=0.478750\n",
      "INFO:ImageClassificationEstimator:[Epoch 0] speed: 15 samples/sec\ttime cost: 68.552320\n",
      "INFO:ImageClassificationEstimator:[Epoch 0] validation: top1=0.747500 top5=1.000000\n",
      "INFO:ImageClassificationEstimator:[Epoch 0] Current best top-1: 0.747500 vs previous 0.000000, saved to /home/jupyter/machine-learning-playground/02.autogluon/01.quick_start/04d58208/.trial_0/best_checkpoint.pkl\n",
      "INFO:ImageClassificationEstimator:Epoch[1] Batch [49]\tSpeed: 15.231923 samples/sec\taccuracy=0.582500\tlr=0.010000\n",
      "INFO:ImageClassificationEstimator:Epoch[1] Batch [99]\tSpeed: 15.259289 samples/sec\taccuracy=0.610000\tlr=0.010000\n",
      "INFO:ImageClassificationEstimator:[Epoch 1] training: accuracy=0.610000\n",
      "INFO:ImageClassificationEstimator:[Epoch 1] speed: 15 samples/sec\ttime cost: 69.193126\n",
      "INFO:ImageClassificationEstimator:[Epoch 1] validation: top1=0.808750 top5=1.000000\n",
      "INFO:ImageClassificationEstimator:[Epoch 1] Current best top-1: 0.808750 vs previous 0.747500, saved to /home/jupyter/machine-learning-playground/02.autogluon/01.quick_start/04d58208/.trial_0/best_checkpoint.pkl\n",
      "INFO:ImageClassificationEstimator:Applying the state from the best checkpoint...\n",
      "INFO:gluoncv.auto.tasks.image_classification:Finished, total runtime is 140.22 s\n",
      "INFO:gluoncv.auto.tasks.image_classification:{ 'best_config': { 'batch_size': 8,\n",
      "                   'dist_ip_addrs': None,\n",
      "                   'early_stop_baseline': -inf,\n",
      "                   'early_stop_max_value': inf,\n",
      "                   'early_stop_patience': 10,\n",
      "                   'epochs': 2,\n",
      "                   'estimator': <class 'gluoncv.auto.estimators.image_classification.image_classification.ImageClassificationEstimator'>,\n",
      "                   'final_fit': False,\n",
      "                   'gpus': [],\n",
      "                   'log_dir': '/home/jupyter/machine-learning-playground/02.autogluon/01.quick_start/04d58208',\n",
      "                   'lr': 0.01,\n",
      "                   'model': 'resnet18_v1b',\n",
      "                   'ngpus_per_trial': 0,\n",
      "                   'nthreads_per_trial': 32,\n",
      "                   'num_trials': 1,\n",
      "                   'num_workers': 4,\n",
      "                   'scheduler': 'local',\n",
      "                   'search_strategy': 'random',\n",
      "                   'searcher': 'random',\n",
      "                   'seed': 761,\n",
      "                   'time_limits': 7200,\n",
      "                   'wall_clock_tick': 1620058957.1465118},\n",
      "  'total_time': 137.02747535705566,\n",
      "  'train_acc': 0.61,\n",
      "  'valid_acc': 0.80875}\n"
     ]
    },
    {
     "data": {
      "text/plain": [
       "<autogluon.vision.predictor.predictor.ImagePredictor at 0x7f3b7e06f390>"
      ]
     },
     "execution_count": 4,
     "metadata": {},
     "output_type": "execute_result"
    }
   ],
   "source": [
    "predictor = ImagePredictor()\n",
    "# since the original dataset does not provide validation split, the `fit` function splits it randomly with 90/10 ratio\n",
    "predictor.fit(train_dataset, hyperparameters={'epochs': 2})  # you can trust the default config, we reduce the # epoch to save some build time"
   ]
  },
  {
   "cell_type": "code",
   "execution_count": 5,
   "id": "55600ba9",
   "metadata": {},
   "outputs": [
    {
     "name": "stdout",
     "output_type": "stream",
     "text": [
      "Top-1 train acc: 0.610, val acc: 0.809\n"
     ]
    }
   ],
   "source": [
    "fit_result = predictor.fit_summary()\n",
    "print('Top-1 train acc: %.3f, val acc: %.3f' %(fit_result['train_acc'], fit_result['valid_acc']))"
   ]
  },
  {
   "cell_type": "code",
   "execution_count": 6,
   "id": "7e6d024a",
   "metadata": {},
   "outputs": [
    {
     "name": "stdout",
     "output_type": "stream",
     "text": [
      "Top-1 test acc: 0.700\n"
     ]
    }
   ],
   "source": [
    "test_acc, _ = predictor.evaluate(test_dataset)\n",
    "print('Top-1 test acc: %.3f' % test_acc)"
   ]
  },
  {
   "cell_type": "code",
   "execution_count": 7,
   "id": "fb5a9550",
   "metadata": {},
   "outputs": [
    {
     "name": "stdout",
     "output_type": "stream",
     "text": [
      "0    0\n",
      "Name: label, dtype: int64\n"
     ]
    }
   ],
   "source": [
    "image_path = test_dataset.iloc[0]['image']\n",
    "result = predictor.predict(image_path)\n",
    "print(result)"
   ]
  },
  {
   "cell_type": "code",
   "execution_count": 8,
   "id": "d40157de",
   "metadata": {},
   "outputs": [
    {
     "name": "stdout",
     "output_type": "stream",
     "text": [
      "          0         1         2         3\n",
      "0  0.637084  0.312147  0.048351  0.002418\n"
     ]
    }
   ],
   "source": [
    "proba = predictor.predict_proba(image_path)\n",
    "print(proba)"
   ]
  },
  {
   "cell_type": "code",
   "execution_count": 9,
   "id": "fca5380c",
   "metadata": {},
   "outputs": [
    {
     "name": "stdout",
     "output_type": "stream",
     "text": [
      "0     0\n",
      "1     0\n",
      "2     1\n",
      "3     2\n",
      "4     1\n",
      "     ..\n",
      "75    3\n",
      "76    3\n",
      "77    3\n",
      "78    3\n",
      "79    2\n",
      "Name: label, Length: 80, dtype: int64\n"
     ]
    }
   ],
   "source": [
    "bulk_result = predictor.predict(test_dataset)\n",
    "print(bulk_result)"
   ]
  },
  {
   "cell_type": "code",
   "execution_count": 10,
   "id": "7349f716",
   "metadata": {},
   "outputs": [
    {
     "name": "stdout",
     "output_type": "stream",
     "text": [
      "0    0\n",
      "Name: label, dtype: int64\n"
     ]
    }
   ],
   "source": [
    "filename = 'predictor.ag'\n",
    "predictor.save(filename)\n",
    "predictor_loaded = ImagePredictor.load(filename)\n",
    "# use predictor_loaded as usual\n",
    "result = predictor_loaded.predict(image_path)\n",
    "print(result)"
   ]
  },
  {
   "cell_type": "markdown",
   "id": "e6fe9a9d",
   "metadata": {},
   "source": [
    "# medium_quality_faster_train"
   ]
  },
  {
   "cell_type": "code",
   "execution_count": 1,
   "id": "1e4d4d91",
   "metadata": {},
   "outputs": [],
   "source": [
    "%matplotlib inline\n",
    "import matplotlib.pyplot as plt"
   ]
  },
  {
   "cell_type": "code",
   "execution_count": 2,
   "id": "b60644fd",
   "metadata": {},
   "outputs": [],
   "source": [
    "import os\n",
    "\n",
    "os.makedirs('checkpoint', exist_ok=True)"
   ]
  },
  {
   "cell_type": "code",
   "execution_count": 3,
   "id": "d0e48bb7",
   "metadata": {},
   "outputs": [],
   "source": [
    "hyperparameters = {'model': 'resnet50_v1b', 'lr': 0.01, \n",
    "                   'batch_size': 64, 'epochs': 50, 'early_stop_patience': 5 }\n",
    "\n",
    "hyperparameter_tune_kwargs = { 'num_trials': 8, 'search_strategy': 'random'}\n",
    "\n",
    "time_limit = 1*3600"
   ]
  },
  {
   "cell_type": "code",
   "execution_count": 4,
   "id": "60b3ba93",
   "metadata": {},
   "outputs": [
    {
     "name": "stderr",
     "output_type": "stream",
     "text": [
      "INFO:root:Reset labels to [0, 1, 2, 3]\n",
      "INFO:gluoncv.auto.tasks.image_classification:No GPU detected/allowed, using most conservative search space.\n",
      "INFO:gluoncv.auto.tasks.image_classification:Randomly split train_data into train[714]/validation[86] splits.\n",
      "INFO:gluoncv.auto.tasks.image_classification:Starting HPO experiments\n"
     ]
    },
    {
     "data": {
      "application/vnd.jupyter.widget-view+json": {
       "model_id": "4acbd2e480404e568c47ef8981e72c71",
       "version_major": 2,
       "version_minor": 0
      },
      "text/plain": [
       "  0%|          | 0/8 [00:00<?, ?it/s]"
      ]
     },
     "metadata": {},
     "output_type": "display_data"
    },
    {
     "name": "stderr",
     "output_type": "stream",
     "text": [
      "INFO:ImageClassificationEstimator:modified configs(<old> != <new>): {\n",
      "INFO:ImageClassificationEstimator:root.train.rec_val   ~/.mxnet/datasets/imagenet/rec/val.rec != auto\n",
      "INFO:ImageClassificationEstimator:root.train.early_stop_baseline 0.0 != -inf\n",
      "INFO:ImageClassificationEstimator:root.train.rec_train ~/.mxnet/datasets/imagenet/rec/train.rec != auto\n",
      "INFO:ImageClassificationEstimator:root.train.data_dir  ~/.mxnet/datasets/imagenet != auto\n",
      "INFO:ImageClassificationEstimator:root.train.batch_size 128 != 64\n",
      "INFO:ImageClassificationEstimator:root.train.lr        0.1 != 0.01\n",
      "INFO:ImageClassificationEstimator:root.train.num_training_samples 1281167 != -1\n",
      "INFO:ImageClassificationEstimator:root.train.early_stop_max_value 1.0 != inf\n",
      "INFO:ImageClassificationEstimator:root.train.rec_val_idx ~/.mxnet/datasets/imagenet/rec/val.idx != auto\n",
      "INFO:ImageClassificationEstimator:root.train.epochs    10 != 50\n",
      "INFO:ImageClassificationEstimator:root.train.rec_train_idx ~/.mxnet/datasets/imagenet/rec/train.idx != auto\n",
      "INFO:ImageClassificationEstimator:root.train.early_stop_patience -1 != 5\n",
      "INFO:ImageClassificationEstimator:root.img_cls.model   resnet50_v1 != resnet50_v1b\n",
      "INFO:ImageClassificationEstimator:root.gpus            (0,) != ()\n",
      "INFO:ImageClassificationEstimator:root.valid.batch_size 128 != 64\n",
      "INFO:ImageClassificationEstimator:}\n",
      "INFO:ImageClassificationEstimator:Saved config to /home/jupyter/machine-learning-playground/02.autogluon/01.quick_start/fdc87961/.trial_0/config.yaml\n",
      "INFO:ImageClassificationEstimator:Start training from [Epoch 0]\n",
      "INFO:ImageClassificationEstimator:[Epoch 0] training: accuracy=0.355469\n",
      "INFO:ImageClassificationEstimator:[Epoch 0] speed: 4 samples/sec\ttime cost: 248.496819\n",
      "INFO:ImageClassificationEstimator:[Epoch 0] validation: top1=0.477500 top5=1.000000\n",
      "INFO:ImageClassificationEstimator:[Epoch 0] Current best top-1: 0.477500 vs previous 0.000000, saved to /home/jupyter/machine-learning-playground/02.autogluon/01.quick_start/fdc87961/.trial_0/best_checkpoint.pkl\n",
      "INFO:ImageClassificationEstimator:[Epoch 1] training: accuracy=0.490885\n",
      "INFO:ImageClassificationEstimator:[Epoch 1] speed: 4 samples/sec\ttime cost: 240.403836\n",
      "INFO:ImageClassificationEstimator:[Epoch 1] validation: top1=0.655000 top5=1.000000\n",
      "INFO:ImageClassificationEstimator:[Epoch 1] Current best top-1: 0.655000 vs previous 0.477500, saved to /home/jupyter/machine-learning-playground/02.autogluon/01.quick_start/fdc87961/.trial_0/best_checkpoint.pkl\n",
      "INFO:ImageClassificationEstimator:[Epoch 2] training: accuracy=0.602865\n",
      "INFO:ImageClassificationEstimator:[Epoch 2] speed: 4 samples/sec\ttime cost: 240.375746\n",
      "INFO:ImageClassificationEstimator:[Epoch 2] validation: top1=0.750000 top5=1.000000\n",
      "INFO:ImageClassificationEstimator:[Epoch 2] Current best top-1: 0.750000 vs previous 0.655000, saved to /home/jupyter/machine-learning-playground/02.autogluon/01.quick_start/fdc87961/.trial_0/best_checkpoint.pkl\n",
      "INFO:ImageClassificationEstimator:[Epoch 3] training: accuracy=0.671875\n",
      "INFO:ImageClassificationEstimator:[Epoch 3] speed: 4 samples/sec\ttime cost: 240.415130\n",
      "INFO:ImageClassificationEstimator:[Epoch 3] validation: top1=0.802500 top5=1.000000\n",
      "INFO:ImageClassificationEstimator:[Epoch 3] Current best top-1: 0.802500 vs previous 0.750000, saved to /home/jupyter/machine-learning-playground/02.autogluon/01.quick_start/fdc87961/.trial_0/best_checkpoint.pkl\n",
      "INFO:ImageClassificationEstimator:[Epoch 4] training: accuracy=0.710938\n",
      "INFO:ImageClassificationEstimator:[Epoch 4] speed: 4 samples/sec\ttime cost: 240.746367\n",
      "INFO:ImageClassificationEstimator:[Epoch 4] validation: top1=0.823750 top5=1.000000\n",
      "INFO:ImageClassificationEstimator:[Epoch 4] Current best top-1: 0.823750 vs previous 0.802500, saved to /home/jupyter/machine-learning-playground/02.autogluon/01.quick_start/fdc87961/.trial_0/best_checkpoint.pkl\n",
      "INFO:ImageClassificationEstimator:[Epoch 5] training: accuracy=0.744792\n",
      "INFO:ImageClassificationEstimator:[Epoch 5] speed: 4 samples/sec\ttime cost: 240.721583\n",
      "INFO:ImageClassificationEstimator:[Epoch 5] validation: top1=0.838750 top5=1.000000\n",
      "INFO:ImageClassificationEstimator:[Epoch 5] Current best top-1: 0.838750 vs previous 0.823750, saved to /home/jupyter/machine-learning-playground/02.autogluon/01.quick_start/fdc87961/.trial_0/best_checkpoint.pkl\n",
      "INFO:ImageClassificationEstimator:[Epoch 6] training: accuracy=0.738281\n",
      "INFO:ImageClassificationEstimator:[Epoch 6] speed: 4 samples/sec\ttime cost: 241.120990\n",
      "INFO:ImageClassificationEstimator:[Epoch 6] validation: top1=0.857500 top5=1.000000\n",
      "INFO:ImageClassificationEstimator:[Epoch 6] Current best top-1: 0.857500 vs previous 0.838750, saved to /home/jupyter/machine-learning-playground/02.autogluon/01.quick_start/fdc87961/.trial_0/best_checkpoint.pkl\n",
      "INFO:ImageClassificationEstimator:[Epoch 7] training: accuracy=0.782552\n",
      "INFO:ImageClassificationEstimator:[Epoch 7] speed: 4 samples/sec\ttime cost: 240.635075\n",
      "INFO:ImageClassificationEstimator:[Epoch 7] validation: top1=0.867500 top5=1.000000\n",
      "INFO:ImageClassificationEstimator:[Epoch 7] Current best top-1: 0.867500 vs previous 0.857500, saved to /home/jupyter/machine-learning-playground/02.autogluon/01.quick_start/fdc87961/.trial_0/best_checkpoint.pkl\n",
      "INFO:ImageClassificationEstimator:[Epoch 8] training: accuracy=0.783854\n",
      "INFO:ImageClassificationEstimator:[Epoch 8] speed: 4 samples/sec\ttime cost: 240.396520\n",
      "INFO:ImageClassificationEstimator:[Epoch 8] validation: top1=0.878750 top5=1.000000\n",
      "INFO:ImageClassificationEstimator:[Epoch 8] Current best top-1: 0.878750 vs previous 0.867500, saved to /home/jupyter/machine-learning-playground/02.autogluon/01.quick_start/fdc87961/.trial_0/best_checkpoint.pkl\n",
      "INFO:ImageClassificationEstimator:[Epoch 9] training: accuracy=0.795573\n",
      "INFO:ImageClassificationEstimator:[Epoch 9] speed: 4 samples/sec\ttime cost: 240.496812\n",
      "INFO:ImageClassificationEstimator:[Epoch 9] validation: top1=0.881250 top5=1.000000\n",
      "INFO:ImageClassificationEstimator:[Epoch 9] Current best top-1: 0.881250 vs previous 0.878750, saved to /home/jupyter/machine-learning-playground/02.autogluon/01.quick_start/fdc87961/.trial_0/best_checkpoint.pkl\n",
      "INFO:ImageClassificationEstimator:[Epoch 10] training: accuracy=0.813802\n",
      "INFO:ImageClassificationEstimator:[Epoch 10] speed: 4 samples/sec\ttime cost: 240.527164\n",
      "INFO:ImageClassificationEstimator:[Epoch 10] validation: top1=0.888750 top5=1.000000\n",
      "INFO:ImageClassificationEstimator:[Epoch 10] Current best top-1: 0.888750 vs previous 0.881250, saved to /home/jupyter/machine-learning-playground/02.autogluon/01.quick_start/fdc87961/.trial_0/best_checkpoint.pkl\n",
      "INFO:ImageClassificationEstimator:[Epoch 11] training: accuracy=0.817708\n",
      "INFO:ImageClassificationEstimator:[Epoch 11] speed: 4 samples/sec\ttime cost: 240.587205\n",
      "INFO:ImageClassificationEstimator:[Epoch 11] validation: top1=0.901250 top5=1.000000\n",
      "INFO:ImageClassificationEstimator:[Epoch 11] Current best top-1: 0.901250 vs previous 0.888750, saved to /home/jupyter/machine-learning-playground/02.autogluon/01.quick_start/fdc87961/.trial_0/best_checkpoint.pkl\n",
      "INFO:ImageClassificationEstimator:[Epoch 12] training: accuracy=0.833333\n",
      "INFO:ImageClassificationEstimator:[Epoch 12] speed: 4 samples/sec\ttime cost: 240.720350\n",
      "INFO:ImageClassificationEstimator:[Epoch 12] validation: top1=0.910000 top5=1.000000\n",
      "INFO:ImageClassificationEstimator:[Epoch 12] Current best top-1: 0.910000 vs previous 0.901250, saved to /home/jupyter/machine-learning-playground/02.autogluon/01.quick_start/fdc87961/.trial_0/best_checkpoint.pkl\n",
      "INFO:ImageClassificationEstimator:[Epoch 13] training: accuracy=0.820312\n",
      "INFO:ImageClassificationEstimator:[Epoch 13] speed: 4 samples/sec\ttime cost: 240.634088\n",
      "INFO:ImageClassificationEstimator:[Epoch 13] validation: top1=0.915000 top5=1.000000\n",
      "INFO:ImageClassificationEstimator:[Epoch 13] Current best top-1: 0.915000 vs previous 0.910000, saved to /home/jupyter/machine-learning-playground/02.autogluon/01.quick_start/fdc87961/.trial_0/best_checkpoint.pkl\n",
      "INFO:ImageClassificationEstimator:[Epoch 14] training: accuracy=0.824219\n",
      "INFO:ImageClassificationEstimator:[Epoch 14] speed: 4 samples/sec\ttime cost: 240.392638\n",
      "INFO:ImageClassificationEstimator:[Epoch 14] validation: top1=0.920000 top5=1.000000\n",
      "INFO:ImageClassificationEstimator:[Epoch 14] Current best top-1: 0.920000 vs previous 0.915000, saved to /home/jupyter/machine-learning-playground/02.autogluon/01.quick_start/fdc87961/.trial_0/best_checkpoint.pkl\n"
     ]
    },
    {
     "name": "stderr",
     "output_type": "stream",
     "text": [
      "WARNING:ImageClassificationEstimator:`time_limit=3599.9709849357605` reached, exit early...\n",
      "INFO:ImageClassificationEstimator:Applying the state from the best checkpoint...\n",
      "INFO:autogluon.core.scheduler.seq_scheduler:\tTime limit exceeded\n",
      "INFO:autogluon.core.scheduler.seq_scheduler:Saving Training Curve in checkpoint/plot_training_curves.png\n"
     ]
    },
    {
     "data": {
      "image/png": "[encoded data removed]",
      "text/plain": [
       "<Figure size 432x288 with 1 Axes>"
      ]
     },
     "metadata": {
      "needs_background": "light"
     },
     "output_type": "display_data"
    },
    {
     "name": "stderr",
     "output_type": "stream",
     "text": [
      "INFO:gluoncv.auto.tasks.image_classification:Finished, total runtime is 3633.26 s\n",
      "INFO:gluoncv.auto.tasks.image_classification:{ 'best_config': { 'estimator': <class 'gluoncv.auto.estimators.image_classification.image_classification.ImageClassificationEstimator'>,\n",
      "                   'gpus': [],\n",
      "                   'img_cls': { 'batch_norm': False,\n",
      "                                'last_gamma': False,\n",
      "                                'model': 'resnet50_v1b',\n",
      "                                'use_gn': False,\n",
      "                                'use_pretrained': True,\n",
      "                                'use_se': False},\n",
      "                   'train': { 'batch_size': 64,\n",
      "                              'crop_ratio': 0.875,\n",
      "                              'data_dir': 'auto',\n",
      "                              'dtype': 'float32',\n",
      "                              'early_stop_baseline': -inf,\n",
      "                              'early_stop_max_value': inf,\n",
      "                              'early_stop_min_delta': 0.001,\n",
      "                              'early_stop_patience': 5,\n",
      "                              'epochs': 50,\n",
      "                              'hard_weight': 0.5,\n",
      "                              'input_size': 224,\n",
      "                              'label_smoothing': False,\n",
      "                              'log_interval': 50,\n",
      "                              'lr': 0.01,\n",
      "                              'lr_decay': 0.1,\n",
      "                              'lr_decay_epoch': '40, 60',\n",
      "                              'lr_decay_period': 0,\n",
      "                              'lr_mode': 'step',\n",
      "                              'mixup': False,\n",
      "                              'mixup_alpha': 0.2,\n",
      "                              'mixup_off_epoch': 0,\n",
      "                              'mode': '',\n",
      "                              'momentum': 0.9,\n",
      "                              'no_wd': False,\n",
      "                              'num_training_samples': -1,\n",
      "                              'num_workers': 4,\n",
      "                              'output_lr_mult': 0.1,\n",
      "                              'pretrained_base': True,\n",
      "                              'rec_train': 'auto',\n",
      "                              'rec_train_idx': 'auto',\n",
      "                              'rec_val': 'auto',\n",
      "                              'rec_val_idx': 'auto',\n",
      "                              'resume_epoch': 0,\n",
      "                              'start_epoch': 0,\n",
      "                              'teacher': None,\n",
      "                              'temperature': 20,\n",
      "                              'transfer_lr_mult': 0.01,\n",
      "                              'use_rec': False,\n",
      "                              'warmup_epochs': 0,\n",
      "                              'warmup_lr': 0.0,\n",
      "                              'wd': 0.0001},\n",
      "                   'valid': {'batch_size': 64, 'num_workers': 4}},\n",
      "  'total_time': 3633.0865008831024,\n",
      "  'train_acc': -1,\n",
      "  'valid_acc': -1}\n"
     ]
    },
    {
     "ename": "RuntimeError",
     "evalue": "Unable to fit a usable model given `time_limit=3600`",
     "output_type": "error",
     "traceback": [
      "\u001b[0;31m---------------------------------------------------------------------------\u001b[0m",
      "\u001b[0;31mRuntimeError\u001b[0m                              Traceback (most recent call last)",
      "\u001b[0;32m<ipython-input-4-4fab6631e82c>\u001b[0m in \u001b[0;36m<module>\u001b[0;34m\u001b[0m\n\u001b[1;32m      7\u001b[0m predictor.fit(train_dataset, time_limit=time_limit,\n\u001b[1;32m      8\u001b[0m               \u001b[0mhyperparameters\u001b[0m\u001b[0;34m=\u001b[0m\u001b[0mhyperparameters\u001b[0m\u001b[0;34m,\u001b[0m\u001b[0;34m\u001b[0m\u001b[0;34m\u001b[0m\u001b[0m\n\u001b[0;32m----> 9\u001b[0;31m               hyperparameter_tune_kwargs=hyperparameter_tune_kwargs)\n\u001b[0m",
      "\u001b[0;32m~/.local/lib/python3.7/site-packages/autogluon/vision/configs/presets_configs.py\u001b[0m in \u001b[0;36m_call\u001b[0;34m(*args, **kwargs)\u001b[0m\n\u001b[1;32m     13\u001b[0m         \u001b[0;32mdef\u001b[0m \u001b[0m_call\u001b[0m\u001b[0;34m(\u001b[0m\u001b[0;34m*\u001b[0m\u001b[0margs\u001b[0m\u001b[0;34m,\u001b[0m \u001b[0;34m**\u001b[0m\u001b[0mkwargs\u001b[0m\u001b[0;34m)\u001b[0m\u001b[0;34m:\u001b[0m\u001b[0;34m\u001b[0m\u001b[0;34m\u001b[0m\u001b[0m\n\u001b[1;32m     14\u001b[0m             \u001b[0mgargs\u001b[0m\u001b[0;34m,\u001b[0m \u001b[0mgkwargs\u001b[0m \u001b[0;34m=\u001b[0m \u001b[0mset_presets\u001b[0m\u001b[0;34m(\u001b[0m\u001b[0mpreset_name\u001b[0m\u001b[0;34m,\u001b[0m \u001b[0;34m*\u001b[0m\u001b[0margs\u001b[0m\u001b[0;34m,\u001b[0m \u001b[0;34m**\u001b[0m\u001b[0mkwargs\u001b[0m\u001b[0;34m)\u001b[0m\u001b[0;34m\u001b[0m\u001b[0;34m\u001b[0m\u001b[0m\n\u001b[0;32m---> 15\u001b[0;31m             \u001b[0;32mreturn\u001b[0m \u001b[0mf\u001b[0m\u001b[0;34m(\u001b[0m\u001b[0;34m*\u001b[0m\u001b[0mgargs\u001b[0m\u001b[0;34m,\u001b[0m \u001b[0;34m**\u001b[0m\u001b[0mgkwargs\u001b[0m\u001b[0;34m)\u001b[0m\u001b[0;34m\u001b[0m\u001b[0;34m\u001b[0m\u001b[0m\n\u001b[0m\u001b[1;32m     16\u001b[0m         \u001b[0;32mreturn\u001b[0m \u001b[0m_call\u001b[0m\u001b[0;34m\u001b[0m\u001b[0;34m\u001b[0m\u001b[0m\n\u001b[1;32m     17\u001b[0m     \u001b[0;32mreturn\u001b[0m \u001b[0m_unpack_inner\u001b[0m\u001b[0;34m\u001b[0m\u001b[0;34m\u001b[0m\u001b[0m\n",
      "\u001b[0;32m~/.local/lib/python3.7/site-packages/autogluon/vision/predictor/predictor.py\u001b[0m in \u001b[0;36mfit\u001b[0;34m(self, train_data, tuning_data, time_limit, presets, hyperparameters, **kwargs)\u001b[0m\n\u001b[1;32m    375\u001b[0m                 \u001b[0mself\u001b[0m\u001b[0;34m.\u001b[0m\u001b[0m_classifier\u001b[0m \u001b[0;34m=\u001b[0m \u001b[0mtask\u001b[0m\u001b[0;34m.\u001b[0m\u001b[0mfit\u001b[0m\u001b[0;34m(\u001b[0m\u001b[0mtrain_data\u001b[0m\u001b[0;34m,\u001b[0m \u001b[0mtuning_data\u001b[0m\u001b[0;34m,\u001b[0m \u001b[0;36m1\u001b[0m \u001b[0;34m-\u001b[0m \u001b[0mholdout_frac\u001b[0m\u001b[0;34m,\u001b[0m \u001b[0mrandom_state\u001b[0m\u001b[0;34m)\u001b[0m\u001b[0;34m\u001b[0m\u001b[0;34m\u001b[0m\u001b[0m\n\u001b[1;32m    376\u001b[0m             \u001b[0;32mif\u001b[0m \u001b[0merr\u001b[0m\u001b[0;34m.\u001b[0m\u001b[0mexc_value\u001b[0m \u001b[0;32mis\u001b[0m \u001b[0;32mnot\u001b[0m \u001b[0;32mNone\u001b[0m\u001b[0;34m:\u001b[0m\u001b[0;34m\u001b[0m\u001b[0;34m\u001b[0m\u001b[0m\n\u001b[0;32m--> 377\u001b[0;31m                 \u001b[0;32mraise\u001b[0m \u001b[0mRuntimeError\u001b[0m\u001b[0;34m(\u001b[0m\u001b[0merr\u001b[0m\u001b[0;34m.\u001b[0m\u001b[0mexc_value\u001b[0m \u001b[0;34m+\u001b[0m \u001b[0merr\u001b[0m\u001b[0;34m.\u001b[0m\u001b[0mhint\u001b[0m\u001b[0;34m)\u001b[0m\u001b[0;34m\u001b[0m\u001b[0;34m\u001b[0m\u001b[0m\n\u001b[0m\u001b[1;32m    378\u001b[0m         \u001b[0mself\u001b[0m\u001b[0;34m.\u001b[0m\u001b[0m_classifier\u001b[0m\u001b[0;34m.\u001b[0m\u001b[0m_logger\u001b[0m\u001b[0;34m.\u001b[0m\u001b[0msetLevel\u001b[0m\u001b[0;34m(\u001b[0m\u001b[0mlog_level\u001b[0m\u001b[0;34m)\u001b[0m\u001b[0;34m\u001b[0m\u001b[0;34m\u001b[0m\u001b[0m\n\u001b[1;32m    379\u001b[0m         \u001b[0mself\u001b[0m\u001b[0;34m.\u001b[0m\u001b[0m_classifier\u001b[0m\u001b[0;34m.\u001b[0m\u001b[0m_logger\u001b[0m\u001b[0;34m.\u001b[0m\u001b[0mpropagate\u001b[0m \u001b[0;34m=\u001b[0m \u001b[0;32mTrue\u001b[0m\u001b[0;34m\u001b[0m\u001b[0;34m\u001b[0m\u001b[0m\n",
      "\u001b[0;31mRuntimeError\u001b[0m: Unable to fit a usable model given `time_limit=3600`"
     ]
    }
   ],
   "source": [
    "import autogluon.core as ag\n",
    "from autogluon.vision import ImagePredictor\n",
    "\n",
    "train_dataset, _, test_dataset = ImagePredictor.Dataset.from_folders('~/data')\n",
    "\n",
    "predictor = ImagePredictor()\n",
    "predictor.fit(train_dataset, time_limit=time_limit,\n",
    "              hyperparameters=hyperparameters,\n",
    "              hyperparameter_tune_kwargs=hyperparameter_tune_kwargs)"
   ]
  },
  {
   "cell_type": "code",
   "execution_count": 16,
   "id": "43549279",
   "metadata": {},
   "outputs": [
    {
     "ename": "KeyError",
     "evalue": "'train_acc'",
     "output_type": "error",
     "traceback": [
      "\u001b[0;31m---------------------------------------------------------------------------\u001b[0m",
      "\u001b[0;31mKeyError\u001b[0m                                  Traceback (most recent call last)",
      "\u001b[0;32m<ipython-input-16-5fc216cb6821>\u001b[0m in \u001b[0;36m<module>\u001b[0;34m\u001b[0m\n\u001b[1;32m      1\u001b[0m \u001b[0mfit_result\u001b[0m \u001b[0;34m=\u001b[0m \u001b[0mpredictor\u001b[0m\u001b[0;34m.\u001b[0m\u001b[0mfit_summary\u001b[0m\u001b[0;34m(\u001b[0m\u001b[0;34m)\u001b[0m\u001b[0;34m\u001b[0m\u001b[0;34m\u001b[0m\u001b[0m\n\u001b[0;32m----> 2\u001b[0;31m \u001b[0mprint\u001b[0m\u001b[0;34m(\u001b[0m\u001b[0;34m'Top-1 train acc: %.3f, val acc: %.3f'\u001b[0m \u001b[0;34m%\u001b[0m\u001b[0;34m(\u001b[0m\u001b[0mfit_result\u001b[0m\u001b[0;34m[\u001b[0m\u001b[0;34m'train_acc'\u001b[0m\u001b[0;34m]\u001b[0m\u001b[0;34m,\u001b[0m \u001b[0mfit_result\u001b[0m\u001b[0;34m[\u001b[0m\u001b[0;34m'valid_acc'\u001b[0m\u001b[0;34m]\u001b[0m\u001b[0;34m)\u001b[0m\u001b[0;34m)\u001b[0m\u001b[0;34m\u001b[0m\u001b[0;34m\u001b[0m\u001b[0m\n\u001b[0m",
      "\u001b[0;31mKeyError\u001b[0m: 'train_acc'"
     ]
    }
   ],
   "source": [
    "fit_result = predictor.fit_summary()\n",
    "print('Top-1 train acc: %.3f, val acc: %.3f' %(fit_result['train_acc'], fit_result['valid_acc']))"
   ]
  },
  {
   "cell_type": "code",
   "execution_count": null,
   "id": "f5d50209",
   "metadata": {},
   "outputs": [],
   "source": [
    "test_acc, _ = predictor.evaluate(test_dataset)\n",
    "print('Top-1 test acc: %.3f' % test_acc)"
   ]
  },
  {
   "cell_type": "code",
   "execution_count": null,
   "id": "bc0ecf24",
   "metadata": {},
   "outputs": [],
   "source": [
    "filename = 'predictor_mqft.ag'\n",
    "predictor.save(filename)"
   ]
  },
  {
   "cell_type": "markdown",
   "id": "06a9f890",
   "metadata": {},
   "source": [
    "# medium_quality_faster_inference"
   ]
  },
  {
   "cell_type": "code",
   "execution_count": null,
   "id": "fce021f8",
   "metadata": {},
   "outputs": [],
   "source": [
    "from autogluon.core import Categorical, Real\n",
    "\n",
    "hyperparameters = { 'model': Categorical('resnet18_v1b', 'mobilenetv3_small'), \n",
    "                   'lr': Categorical(0.01, 0.005, 0.001), 'batch_size': Categorical(64, 128),\n",
    "                   'epochs': Categorical(50, 100), 'early_stop_patience': 10 }\n",
    "\n",
    "hyperparameter_tune_kwargs = {'num_trials': 32, 'search_strategy': 'bayesopt'}\n",
    "\n",
    "time_limit = 2*3600"
   ]
  },
  {
   "cell_type": "code",
   "execution_count": null,
   "id": "6438406a",
   "metadata": {},
   "outputs": [
    {
     "name": "stderr",
     "output_type": "stream",
     "text": [
      "INFO:root:Reset labels to [0, 1, 2, 3]\n",
      "INFO:gluoncv.auto.tasks.image_classification:No GPU detected/allowed, using most conservative search space.\n",
      "INFO:gluoncv.auto.tasks.image_classification:Randomly split train_data into train[714]/validation[86] splits.\n",
      "INFO:gluoncv.auto.tasks.image_classification:Starting HPO experiments\n"
     ]
    },
    {
     "data": {
      "application/vnd.jupyter.widget-view+json": {
       "model_id": "132ba548878c4964a2cc902015cba61d",
       "version_major": 2,
       "version_minor": 0
      },
      "text/plain": [
       "  0%|          | 0/8 [00:00<?, ?it/s]"
      ]
     },
     "metadata": {},
     "output_type": "display_data"
    },
    {
     "name": "stderr",
     "output_type": "stream",
     "text": [
      "INFO:ImageClassificationEstimator:modified configs(<old> != <new>): {\n",
      "INFO:ImageClassificationEstimator:root.train.early_stop_max_value 1.0 != inf\n",
      "INFO:ImageClassificationEstimator:root.train.rec_train ~/.mxnet/datasets/imagenet/rec/train.rec != auto\n",
      "INFO:ImageClassificationEstimator:root.train.batch_size 128 != 64\n",
      "INFO:ImageClassificationEstimator:root.train.rec_train_idx ~/.mxnet/datasets/imagenet/rec/train.idx != auto\n",
      "INFO:ImageClassificationEstimator:root.train.lr        0.1 != 0.01\n",
      "INFO:ImageClassificationEstimator:root.train.early_stop_baseline 0.0 != -inf\n",
      "INFO:ImageClassificationEstimator:root.train.early_stop_patience -1 != 5\n",
      "INFO:ImageClassificationEstimator:root.train.num_training_samples 1281167 != -1\n",
      "INFO:ImageClassificationEstimator:root.train.rec_val   ~/.mxnet/datasets/imagenet/rec/val.rec != auto\n",
      "INFO:ImageClassificationEstimator:root.train.data_dir  ~/.mxnet/datasets/imagenet != auto\n",
      "INFO:ImageClassificationEstimator:root.train.rec_val_idx ~/.mxnet/datasets/imagenet/rec/val.idx != auto\n",
      "INFO:ImageClassificationEstimator:root.train.epochs    10 != 50\n",
      "INFO:ImageClassificationEstimator:root.img_cls.model   resnet50_v1 != resnet50_v1b\n",
      "INFO:ImageClassificationEstimator:root.gpus            (0,) != ()\n",
      "INFO:ImageClassificationEstimator:root.valid.batch_size 128 != 64\n",
      "INFO:ImageClassificationEstimator:}\n",
      "INFO:ImageClassificationEstimator:Saved config to /home/jupyter/machine-learning-playground/02.autogluon/01.quick_start/5398db56/.trial_0/config.yaml\n",
      "INFO:root:Model file not found. Downloading.\n"
     ]
    },
    {
     "name": "stdout",
     "output_type": "stream",
     "text": [
      "Downloading /home/jupyter/.mxnet/models/resnet50_v1b-0ecdba34.zip from https://apache-mxnet.s3-accelerate.dualstack.amazonaws.com/gluon/models/resnet50_v1b-0ecdba34.zip...\n"
     ]
    },
    {
     "name": "stderr",
     "output_type": "stream",
     "text": [
      "\n",
      "  0%|          | 0/55344 [00:00<?, ?KB/s]\u001b[A\n",
      "  0%|          | 93/55344 [00:00<01:55, 479.29KB/s]\u001b[A\n",
      "  1%|          | 424/55344 [00:00<00:32, 1679.55KB/s]\u001b[A\n",
      "  1%|          | 639/55344 [00:00<00:29, 1849.11KB/s]\u001b[A\n",
      "  2%|▏         | 1153/55344 [00:00<00:18, 2998.12KB/s]\u001b[A\n",
      "  4%|▍         | 2477/55344 [00:00<00:08, 6406.67KB/s]\u001b[A\n",
      "  8%|▊         | 4361/55344 [00:00<00:04, 10412.93KB/s]\u001b[A\n",
      " 14%|█▍        | 7729/55344 [00:00<00:02, 17746.71KB/s]\u001b[A\n",
      " 23%|██▎       | 12523/55344 [00:00<00:01, 27120.69KB/s]\u001b[A\n",
      " 29%|██▉       | 16080/55344 [00:00<00:01, 29716.02KB/s]\u001b[A\n",
      " 37%|███▋      | 20474/55344 [00:01<00:01, 34054.05KB/s]\u001b[A\n",
      " 46%|████▌     | 25385/55344 [00:01<00:00, 38622.83KB/s]\u001b[A\n",
      " 55%|█████▍    | 30287/55344 [00:01<00:00, 41766.65KB/s]\u001b[A\n",
      " 64%|██████▍   | 35358/55344 [00:01<00:00, 44462.96KB/s]\u001b[A\n",
      " 73%|███████▎  | 40199/55344 [00:01<00:00, 45650.95KB/s]\u001b[A\n",
      " 81%|████████  | 44777/55344 [00:01<00:00, 45264.50KB/s]\u001b[A\n",
      "100%|██████████| 55344/55344 [00:01<00:00, 30765.73KB/s]\u001b[A\n",
      "INFO:ImageClassificationEstimator:Start training from [Epoch 0]\n",
      "INFO:ImageClassificationEstimator:[Epoch 0] training: accuracy=0.319010\n",
      "INFO:ImageClassificationEstimator:[Epoch 0] speed: 4 samples/sec\ttime cost: 249.218964\n",
      "INFO:ImageClassificationEstimator:[Epoch 0] validation: top1=0.477500 top5=1.000000\n",
      "INFO:ImageClassificationEstimator:[Epoch 0] Current best top-1: 0.477500 vs previous 0.000000, saved to /home/jupyter/machine-learning-playground/02.autogluon/01.quick_start/5398db56/.trial_0/best_checkpoint.pkl\n"
     ]
    }
   ],
   "source": [
    "import autogluon.core as ag\n",
    "from autogluon.vision import ImagePredictor\n",
    "\n",
    "train_dataset, _, test_dataset = ImagePredictor.Dataset.from_folders('~/data')\n",
    "\n",
    "predictor = ImagePredictor()\n",
    "predictor.fit(train_dataset, time_limit=time_limit,\n",
    "              hyperparameters=hyperparameters,\n",
    "              hyperparameter_tune_kwargs=hyperparameter_tune_kwargs)"
   ]
  },
  {
   "cell_type": "code",
   "execution_count": null,
   "id": "7e1f8c85",
   "metadata": {},
   "outputs": [],
   "source": [
    "fit_result = predictor.fit_summary()\n",
    "print('Top-1 train acc: %.3f, val acc: %.3f' %(fit_result['train_acc'], fit_result['valid_acc']))"
   ]
  },
  {
   "cell_type": "code",
   "execution_count": null,
   "id": "02406f0d",
   "metadata": {},
   "outputs": [],
   "source": [
    "test_acc, _ = predictor.evaluate(test_dataset)\n",
    "print('Top-1 test acc: %.3f' % test_acc)"
   ]
  },
  {
   "cell_type": "code",
   "execution_count": null,
   "id": "fc910c09",
   "metadata": {},
   "outputs": [],
   "source": [
    "filename = 'predictor_mqft.ag'\n",
    "predictor.save(filename)"
   ]
  }
 ],
 "metadata": {
  "kernelspec": {
   "display_name": "Python 3",
   "language": "python",
   "name": "python3"
  },
  "language_info": {
   "codemirror_mode": {
    "name": "ipython",
    "version": 3
   },
   "file_extension": ".py",
   "mimetype": "text/x-python",
   "name": "python",
   "nbconvert_exporter": "python",
   "pygments_lexer": "ipython3",
   "version": "3.7.9"
  }
 },
 "nbformat": 4,
 "nbformat_minor": 5
}
