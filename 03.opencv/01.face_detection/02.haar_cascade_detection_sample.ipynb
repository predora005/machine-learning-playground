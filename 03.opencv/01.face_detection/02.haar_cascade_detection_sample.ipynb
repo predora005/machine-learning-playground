{
 "cells": [
  {
   "cell_type": "code",
   "execution_count": 1,
   "id": "de12ccc9",
   "metadata": {},
   "outputs": [],
   "source": [
    "import cv2\n",
    "import os"
   ]
  },
  {
   "cell_type": "code",
   "execution_count": 2,
   "id": "d5f419bd",
   "metadata": {},
   "outputs": [],
   "source": [
    "# サンプルデータのパスを追加\n",
    "homedir = os.path.expanduser('~')\n",
    "cv2dir = '.local/lib/python3.7/site-packages/cv2/'\n",
    "cv2path = os.path.join(homedir, cv2dir)\n",
    "cv2.samples.addSamplesDataSearchPath(cv2path)"
   ]
  },
  {
   "cell_type": "code",
   "execution_count": 3,
   "id": "e4e7afdb",
   "metadata": {},
   "outputs": [
    {
     "name": "stderr",
     "output_type": "stream",
     "text": [
      "[ WARN:0] global /tmp/pip-req-build-l1r0y34w/opencv/modules/core/src/utils/samples.cpp (61) findFile cv::samples::findFile('data/haarcascade_frontalface_alt.xml') => '/home/jupyter/.local/lib/python3.7/site-packages/cv2/data/haarcascade_frontalface_alt.xml'\n",
      "[ WARN:0] global /tmp/pip-req-build-l1r0y34w/opencv/modules/core/src/utils/samples.cpp (61) findFile cv::samples::findFile('data/haarcascade_eye_tree_eyeglasses.xml') => '/home/jupyter/.local/lib/python3.7/site-packages/cv2/data/haarcascade_eye_tree_eyeglasses.xml'\n"
     ]
    },
    {
     "data": {
      "text/plain": [
       "True"
      ]
     },
     "execution_count": 3,
     "metadata": {},
     "output_type": "execute_result"
    }
   ],
   "source": [
    "# サンプル分類器を取得\n",
    "face_cascade_name = 'data/haarcascade_frontalface_alt.xml'\n",
    "eyes_cascade_name = 'data/haarcascade_eye_tree_eyeglasses.xml'\n",
    "face_cascade = cv2.CascadeClassifier()\n",
    "eyes_cascade = cv2.CascadeClassifier()\n",
    "face_cascade.load(cv2.samples.findFile(face_cascade_name))\n",
    "eyes_cascade.load(cv2.samples.findFile(eyes_cascade_name))"
   ]
  },
  {
   "cell_type": "markdown",
   "id": "fde2e736",
   "metadata": {},
   "source": [
    "# 上手くいく例"
   ]
  },
  {
   "cell_type": "code",
   "execution_count": 4,
   "id": "d676267f",
   "metadata": {},
   "outputs": [],
   "source": [
    "# 画像を読み込み\n",
    "imgdir = os.path.join(os.path.expanduser('~'), 'img')\n",
    "imgpath = os.path.join(imgdir, 'sample1.jpg')\n",
    "img = cv2.imread(imgpath)"
   ]
  },
  {
   "cell_type": "code",
   "execution_count": 5,
   "id": "d5baeb8a",
   "metadata": {},
   "outputs": [],
   "source": [
    "# 画像をグレースケールに変換\n",
    "img_gray = cv2.cvtColor(img, cv2.COLOR_BGR2GRAY)"
   ]
  },
  {
   "cell_type": "code",
   "execution_count": 6,
   "id": "5df3bd0d",
   "metadata": {},
   "outputs": [],
   "source": [
    "# 顔検出\n",
    "faces = face_cascade.detectMultiScale(img_gray)\n",
    "for face in faces:\n",
    "\n",
    "    # 顔検出した領域を赤枠で描画\n",
    "    xf, yf, wf, hf = face\n",
    "    cv2.rectangle(img, (xf, yf), (xf+wf, yf+hf), color=(0,0,255), thickness=4)\n",
    "    \n",
    "    # 顔検出した領域から、目を検出\n",
    "    face_img = img[yf:yf+hf, xf:xf+wf]\n",
    "    eyes = eyes_cascade.detectMultiScale(face_img)\n",
    "    for eye in eyes:\n",
    "\n",
    "        # 目を検出した領域を緑楕円で描画\n",
    "        xe, ye, we, he = eye\n",
    "        eye_center = (xf + xe + we//2, yf + ye + he//2)\n",
    "        cv2.ellipse(img, eye_center, axes=(we//2, he//2), \n",
    "                    angle=0, startAngle=0, endAngle=360, \n",
    "                    color=(0, 255, 0), thickness=4)"
   ]
  },
  {
   "cell_type": "code",
   "execution_count": 7,
   "id": "f876a9cb",
   "metadata": {},
   "outputs": [
    {
     "data": {
      "text/plain": [
       "True"
      ]
     },
     "execution_count": 7,
     "metadata": {},
     "output_type": "execute_result"
    }
   ],
   "source": [
    "# 検出領域を示した画像を保存\n",
    "save_imgpath = os.path.join(imgdir, 'cv2_sample1.jpg')\n",
    "cv2.imwrite(save_imgpath, img) "
   ]
  },
  {
   "cell_type": "markdown",
   "id": "5055e27a",
   "metadata": {},
   "source": [
    "# 若干上手くいかない例"
   ]
  },
  {
   "cell_type": "code",
   "execution_count": 8,
   "id": "232c017b",
   "metadata": {},
   "outputs": [],
   "source": [
    "# 画像を読み込み\n",
    "imgdir = os.path.join(os.path.expanduser('~'), 'img')\n",
    "imgpath = os.path.join(imgdir, 'sample2.jpg')\n",
    "img = cv2.imread(imgpath)"
   ]
  },
  {
   "cell_type": "code",
   "execution_count": 9,
   "id": "460016b1",
   "metadata": {},
   "outputs": [],
   "source": [
    "# 画像をグレースケールに変換\n",
    "img_gray = cv2.cvtColor(img, cv2.COLOR_BGR2GRAY)"
   ]
  },
  {
   "cell_type": "code",
   "execution_count": 10,
   "id": "05803c3c",
   "metadata": {},
   "outputs": [],
   "source": [
    "# 顔検出\n",
    "faces = face_cascade.detectMultiScale(img_gray)\n",
    "for face in faces:\n",
    "\n",
    "    # 顔検出した領域を赤枠で描画\n",
    "    xf, yf, wf, hf = face\n",
    "    cv2.rectangle(img, (xf, yf), (xf+wf, yf+hf), color=(0,0,255), thickness=4)\n",
    "    \n",
    "    # 顔検出した領域から、目を検出\n",
    "    face_img = img[yf:yf+hf, xf:xf+wf]\n",
    "    eyes = eyes_cascade.detectMultiScale(face_img)\n",
    "    for eye in eyes:\n",
    "\n",
    "        # 目を検出した領域を緑楕円で描画\n",
    "        xe, ye, we, he = eye\n",
    "        eye_center = (xf + xe + we//2, yf + ye + he//2)\n",
    "        cv2.ellipse(img, eye_center, axes=(we//2, he//2), \n",
    "                    angle=0, startAngle=0, endAngle=360, \n",
    "                    color=(0, 255, 0), thickness=4)"
   ]
  },
  {
   "cell_type": "code",
   "execution_count": 11,
   "id": "f7061c05",
   "metadata": {},
   "outputs": [
    {
     "data": {
      "text/plain": [
       "True"
      ]
     },
     "execution_count": 11,
     "metadata": {},
     "output_type": "execute_result"
    }
   ],
   "source": [
    "# 検出領域を示した画像を保存\n",
    "save_imgpath = os.path.join(imgdir, 'cv2_sample2.jpg')\n",
    "cv2.imwrite(save_imgpath, img) "
   ]
  },
  {
   "cell_type": "markdown",
   "id": "375522e5",
   "metadata": {},
   "source": [
    "# 上手くいかない例"
   ]
  },
  {
   "cell_type": "code",
   "execution_count": 12,
   "id": "baea9c57",
   "metadata": {},
   "outputs": [],
   "source": [
    "# 画像を読み込み\n",
    "imgdir = os.path.join(os.path.expanduser('~'), 'img')\n",
    "imgpath = os.path.join(imgdir, 'sample3.jpg')\n",
    "img = cv2.imread(imgpath)"
   ]
  },
  {
   "cell_type": "code",
   "execution_count": 13,
   "id": "01fbcf84",
   "metadata": {},
   "outputs": [],
   "source": [
    "# 画像をグレースケールに変換\n",
    "img_gray = cv2.cvtColor(img, cv2.COLOR_BGR2GRAY)"
   ]
  },
  {
   "cell_type": "code",
   "execution_count": 14,
   "id": "bb33fb62",
   "metadata": {},
   "outputs": [],
   "source": [
    "# 顔検出\n",
    "faces = face_cascade.detectMultiScale(img_gray)\n",
    "for face in faces:\n",
    "\n",
    "    # 顔検出した領域を赤枠で描画\n",
    "    xf, yf, wf, hf = face\n",
    "    cv2.rectangle(img, (xf, yf), (xf+wf, yf+hf), color=(0,0,255), thickness=4)\n",
    "    \n",
    "    # 顔検出した領域から、目を検出\n",
    "    face_img = img[yf:yf+hf, xf:xf+wf]\n",
    "    eyes = eyes_cascade.detectMultiScale(face_img)\n",
    "    for eye in eyes:\n",
    "\n",
    "        # 目を検出した領域を緑楕円で描画\n",
    "        xe, ye, we, he = eye\n",
    "        eye_center = (xf + xe + we//2, yf + ye + he//2)\n",
    "        cv2.ellipse(img, eye_center, axes=(we//2, he//2), \n",
    "                    angle=0, startAngle=0, endAngle=360, \n",
    "                    color=(0, 255, 0), thickness=4)"
   ]
  },
  {
   "cell_type": "code",
   "execution_count": 15,
   "id": "f7839c03",
   "metadata": {},
   "outputs": [
    {
     "data": {
      "text/plain": [
       "True"
      ]
     },
     "execution_count": 15,
     "metadata": {},
     "output_type": "execute_result"
    }
   ],
   "source": [
    "# 検出領域を示した画像を保存\n",
    "save_imgpath = os.path.join(imgdir, 'cv2_sample3.jpg')\n",
    "cv2.imwrite(save_imgpath, img) "
   ]
  }
 ],
 "metadata": {
  "kernelspec": {
   "display_name": "Python 3 (ipykernel)",
   "language": "python",
   "name": "python3"
  },
  "language_info": {
   "codemirror_mode": {
    "name": "ipython",
    "version": 3
   },
   "file_extension": ".py",
   "mimetype": "text/x-python",
   "name": "python",
   "nbconvert_exporter": "python",
   "pygments_lexer": "ipython3",
   "version": "3.7.10"
  }
 },
 "nbformat": 4,
 "nbformat_minor": 5
}
