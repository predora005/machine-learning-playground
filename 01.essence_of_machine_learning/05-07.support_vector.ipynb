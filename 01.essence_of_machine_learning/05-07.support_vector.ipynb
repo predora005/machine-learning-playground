{
 "cells": [
  {
   "cell_type": "markdown",
   "metadata": {},
   "source": [
    "# サポートベクターマシン"
   ]
  },
  {
   "cell_type": "code",
   "execution_count": 1,
   "metadata": {},
   "outputs": [],
   "source": [
    "%matplotlib inline\n",
    "import matplotlib.pyplot as plt\n",
    "import numpy as np"
   ]
  },
  {
   "cell_type": "markdown",
   "metadata": {},
   "source": [
    "$$  \n",
    "    y = \\omega_0 + \\sum^{n}_{i=1}{\\omega_i}x_i = \\omega_0 + \\boldsymbol{\\omega^T {x}} \\\\\n",
    "    \\verb| Maximize |_{(\\omega_0, \\ \\boldsymbol{\\omega})} \\frac{1}{\\|\\boldsymbol{\\omega}\\|}\n",
    "$$"
   ]
  },
  {
   "cell_type": "markdown",
   "metadata": {},
   "source": [
    "$$\n",
    "    \\verb| Minimize |_{(\\omega_0, \\ \\boldsymbol{\\omega})} \\frac{1}{2}{\\|\\boldsymbol{\\omega}\\|}^2 \\\\\n",
    "    \\verb| Subject to | y_i (\\omega_0 + \\boldsymbol{\\omega}^T x_i)\\geq1\n",
    "$$"
   ]
  },
  {
   "cell_type": "markdown",
   "metadata": {},
   "source": [
    "$$\n",
    "    \\begin{align}\n",
    "            &\\omega_j = \\sum_{i=1}^{n}{a_i}{y_i}{x_{ij}} \\ \\ (j=1,\\ldots, d)\\\\\n",
    "            \\verb| Minimize | & f(\\boldsymbol{a}) = \\sum_{k=1}^{n}a_k - \\frac{1}{2}\\sum_{k=1}^{n}\\sum_{l=1}^{n}{a_k}{a_l}{y_k}{y_l}{x_k^T}{x_l} \\\\\n",
    "            \\verb| Subject to | &\\sum_{i=1}^{n}{a_i}{y_i} = 0 \\\\\n",
    "             & a_i\\geq0 \\\\\n",
    "             & a_i\\{y_i (\\omega_0 + \\boldsymbol{\\omega}^T x_i) - 1\\}=0 \\\\\n",
    "    \\end{align}\n",
    "$$"
   ]
  },
  {
   "cell_type": "markdown",
   "metadata": {},
   "source": [
    "$$\n",
    "    \\begin{align}\n",
    "        &\\hat{a}_i = \\frac{1}{\\|x_i - x_j\\|^2}\\left\\{1 - {y_i}{y_j} + y_i(x_i - x_j)^T\\left(x_j\\sum_{k\\neq{i,j}}{a_k}{y_k} - \\sum_{k\\neq{i,j}}{a_k}{y_k}{x_k}\\right)\\right\\} \\\\\n",
    "        &\\hat{a}_j = y_j \\left(-\\hat{a}_i - \\sum_{k\\neq{i,j}}{a_k}{y_k} \\right) \\\\\n",
    "        &\\nabla{f}(a)_t = 1 - \\sum_{l=1}^{n}{a_i}{y_t}{y_l}\\boldsymbol{{x_t^T}{x_l}} \\\\\n",
    "        & i = \\verb| argmin|_{(t\\in I_{-}(y,a))}{ {y_t}\\nabla{f}(a)_t} & I_{-}(\\boldsymbol{y,a})) =\\{ t|y_t=-1 \\verb| or | a_t > 0 \\}\\\\\n",
    "        & j = \\verb| argmin|_{(t\\in I_{+}(y,a))}{ {y_t}\\nabla{f}(a)_t} & I_{+}(\\boldsymbol{y,a})) =\\{ t|y_t=1 \\verb| or | a_t > 0 \\}\\ \\\\\n",
    "        &\\omega_j = \\sum_{i=1}^{n}{a_i}{y_i}{x_{ij}} & (j=1,\\ldots, d) \\ ({a_i}\\neq{0}) \\\\\n",
    "        &\\omega_0 = \\frac{1}{|S|} \\sum_{k\\in S}\\left( y_k - \\sum_{l\\in S}{a_l}{y_l}\\boldsymbol{{x_k^T}{x_l}} \\right)\n",
    "    \\end{align}\n",
    "$$"
   ]
  },
  {
   "cell_type": "markdown",
   "metadata": {},
   "source": [
    "## 分離可能な場合"
   ]
  },
  {
   "cell_type": "code",
   "execution_count": 2,
   "metadata": {},
   "outputs": [],
   "source": [
    "from solver import SVCHard"
   ]
  },
  {
   "cell_type": "code",
   "execution_count": 3,
   "metadata": {},
   "outputs": [],
   "source": [
    "np.random.seed(1)\n",
    "X0 = np.random.randn(20, 2)  # \"+\"の(x,y)を20点\n",
    "X1 = np.random.randn(20, 2) + np.array([5, 5])  # \"*\"の(x,y)を20点"
   ]
  },
  {
   "cell_type": "code",
   "execution_count": 4,
   "metadata": {},
   "outputs": [],
   "source": [
    "y = np.array([1] * 20 + [-1] * 20)\n",
    "X = np.r_[X0, X1]"
   ]
  },
  {
   "cell_type": "code",
   "execution_count": 5,
   "metadata": {},
   "outputs": [
    {
     "name": "stdout",
     "output_type": "stream",
     "text": [
      "ai=0.061626, a[i]=0.000000\n",
      "ai=0.034406, a[i]=0.000000\n",
      "ai=0.038089, a[i]=0.061626\n",
      "ai=0.032089, a[i]=0.000000\n",
      "ai=0.014588, a[i]=0.038089\n",
      "ai=0.063677, a[i]=0.032089\n",
      "ai=0.000000, a[i]=0.014588\n",
      "ai=0.055775, a[i]=0.034406\n",
      "ai=0.063677, a[i]=0.063677\n"
     ]
    }
   ],
   "source": [
    "model = SVCHard()\n",
    "model.fit(X, y)"
   ]
  },
  {
   "cell_type": "code",
   "execution_count": 6,
   "metadata": {},
   "outputs": [
    {
     "data": {
      "image/png": "[encoded data removed]",
      "text/plain": [
       "<Figure size 432x288 with 1 Axes>"
      ]
     },
     "metadata": {
      "needs_background": "light"
     },
     "output_type": "display_data"
    }
   ],
   "source": [
    "def f(model, x):\n",
    "    return (-model.w0_ - model.w_[0] * x) / model.w_[1]\n",
    "\n",
    "plt.axes().set_aspect('equal')\n",
    "\n",
    "x1, x2 = -1, 7\n",
    "y1, y2 = f(model, x1), f(model, x2)\n",
    "plt.plot([x1, x2], [y1, y2], color=\"k\")\n",
    "\n",
    "plt.scatter(X0[:, 0], X0[:, 1], color=\"b\", marker=\"+\")\n",
    "plt.scatter(X1[:, 0], X1[:, 1], color=\"r\", marker=\"*\")\n",
    "\n",
    "plt.scatter(X[model.a_ != 0, 0], X[model.a_ != 0, 1], s=100, color=(0,0,0,0), edgecolor=\"g\", marker=\"o\")\n",
    "\n",
    "plt.show()"
   ]
  },
  {
   "cell_type": "code",
   "execution_count": 7,
   "metadata": {},
   "outputs": [
    {
     "name": "stdout",
     "output_type": "stream",
     "text": [
      "[0.00000000e+00 0.00000000e+00 0.00000000e+00 0.00000000e+00\n",
      " 0.00000000e+00 0.00000000e+00 0.00000000e+00 0.00000000e+00\n",
      " 0.00000000e+00 0.00000000e+00 0.00000000e+00 0.00000000e+00\n",
      " 0.00000000e+00 0.00000000e+00 0.00000000e+00 0.00000000e+00\n",
      " 0.00000000e+00 0.00000000e+00 0.00000000e+00 1.19451950e-01\n",
      " 6.93889390e-18 0.00000000e+00 0.00000000e+00 0.00000000e+00\n",
      " 0.00000000e+00 0.00000000e+00 0.00000000e+00 0.00000000e+00\n",
      " 0.00000000e+00 0.00000000e+00 0.00000000e+00 0.00000000e+00\n",
      " 0.00000000e+00 0.00000000e+00 0.00000000e+00 6.36767029e-02\n",
      " 0.00000000e+00 5.57752473e-02 0.00000000e+00 0.00000000e+00]\n"
     ]
    }
   ],
   "source": [
    "print(model.a_)"
   ]
  },
  {
   "cell_type": "code",
   "execution_count": 8,
   "metadata": {},
   "outputs": [
    {
     "name": "stdout",
     "output_type": "stream",
     "text": [
      "[ 1.56106023  2.42760363  2.4220329   1.57630844  1.85301333  2.14052053\n",
      "  2.11024244  1.89786081  2.2411511   1.64020838  1.80684767  1.39043255\n",
      "  1.82211152  2.24613182  1.75996037  2.23473298  2.39638232  2.0884087\n",
      "  2.14335411  1.05715917 -1.19074977 -1.94887029 -1.36067958 -2.40172882\n",
      " -1.83935801 -1.54519777 -1.07789876 -1.72141153 -2.18688624 -1.99051456\n",
      " -1.78663818 -1.63396573 -1.70697376 -2.49601245 -1.77747572 -0.92356857\n",
      " -1.94649246 -0.94284083 -1.7776026  -1.92771581]\n"
     ]
    }
   ],
   "source": [
    "print(model.predict(X))"
   ]
  },
  {
   "cell_type": "markdown",
   "metadata": {},
   "source": [
    "## 分離不可能な場合"
   ]
  },
  {
   "cell_type": "markdown",
   "metadata": {},
   "source": [
    "$$\n",
    "    \\begin{align}\n",
    "            \\verb| Minimize | & f(\\boldsymbol{a}) = \\sum_{k=1}^{n}a_k - \\frac{1}{2}\\sum_{k=1}^{n}\\sum_{l=1}^{n}{a_k}{a_l}{y_k}{y_l}{x_k^T}{x_l} \\\\\n",
    "            \\verb| Subject to | &\\sum_{i=1}^{n}{a_i}{y_i} = 0 \\\\\n",
    "             & 0 \\leq a_i \\leq C\n",
    "    \\end{align}\n",
    "$$"
   ]
  },
  {
   "cell_type": "markdown",
   "metadata": {},
   "source": [
    "$$\n",
    "    \\begin{align}\n",
    "        i = \\verb| argmin|_{(t\\in I_{-}(y,a))}{ {y_t}\\nabla{f}(a)_t} \\\\\n",
    "        j = \\verb| argmin|_{(t\\in I_{+}(y,a))}{ {y_t}\\nabla{f}(a)_t} \n",
    "    \\end{align}\n",
    "$$"
   ]
  },
  {
   "cell_type": "markdown",
   "metadata": {},
   "source": [
    "$$\n",
    "    \\left\\{\n",
    "        \\begin{array}{l}\n",
    "             I_{-}(\\boldsymbol{y,a})) =\\{ t|(a_t > 0 \\verb| and | y_t=1) \\verb| or | (a_t < C \\verb| and | y_t=-1) \\} \\\\\n",
    "             I_{+}(\\boldsymbol{y,a})) =\\{ t|(a_t > 0 \\verb| and | y_t=-1) \\verb| or | (a_t < C \\verb| and | y_t=1) \\}\n",
    "        \\end{array}\n",
    "    \\right.\n",
    "$$"
   ]
  },
  {
   "cell_type": "code",
   "execution_count": 9,
   "metadata": {},
   "outputs": [],
   "source": [
    "from solver import SVCSoft"
   ]
  },
  {
   "cell_type": "code",
   "execution_count": 10,
   "metadata": {},
   "outputs": [],
   "source": [
    "np.random.seed(0)\n",
    "n = 20\n",
    "X0 = np.random.randn(n, 2)  # \"+\"の(x,y)をn点\n",
    "X1 = np.random.randn(n, 2) + np.array([2.5, 2.5])  # \"*\"の(x,y)をn点"
   ]
  },
  {
   "cell_type": "code",
   "execution_count": 11,
   "metadata": {},
   "outputs": [],
   "source": [
    "y = np.array([1] * n + [-1] * n)\n",
    "X = np.r_[X0, X1]"
   ]
  },
  {
   "cell_type": "code",
   "execution_count": 12,
   "metadata": {},
   "outputs": [],
   "source": [
    "model = SVCSoft(C=1)\n",
    "model.fit(X, y)"
   ]
  },
  {
   "cell_type": "code",
   "execution_count": 13,
   "metadata": {},
   "outputs": [
    {
     "data": {
      "image/png": "[encoded data removed]",
      "text/plain": [
       "<Figure size 432x288 with 1 Axes>"
      ]
     },
     "metadata": {
      "needs_background": "light"
     },
     "output_type": "display_data"
    }
   ],
   "source": [
    "def f(model, x):\n",
    "    return (-model.w0_ - model.w_[0] * x) / model.w_[1]\n",
    "\n",
    "plt.axes().set_aspect('equal')\n",
    "\n",
    "x1, x2 = -2, 4\n",
    "y1, y2 = f(model, x1), f(model, x2)\n",
    "plt.plot([x1, x2], [y1, y2], color=\"k\")\n",
    "\n",
    "plt.scatter(X0[:, 0], X0[:, 1], color=\"b\", marker=\"+\")\n",
    "plt.scatter(X1[:, 0], X1[:, 1], color=\"r\", marker=\"*\")\n",
    "\n",
    "plt.scatter(X[model.a_ != 0, 0], X[model.a_ != 0, 1], s=100, color=(0,0,0,0), edgecolor=\"g\", marker=\"o\")\n",
    "\n",
    "plt.show()"
   ]
  },
  {
   "cell_type": "code",
   "execution_count": 14,
   "metadata": {},
   "outputs": [
    {
     "name": "stdout",
     "output_type": "stream",
     "text": [
      "[1.         1.         0.         0.         0.         0.35629849\n",
      " 0.         0.         0.26269129 0.         0.         0.\n",
      " 0.         0.         1.         0.         0.         0.\n",
      " 1.         0.         1.         0.         0.         0.\n",
      " 1.         0.         1.         0.         0.         0.\n",
      " 0.         1.         0.         0.         0.         0.\n",
      " 0.         0.         0.61898977 0.        ]\n"
     ]
    }
   ],
   "source": [
    "print(model.a_)"
   ]
  },
  {
   "cell_type": "code",
   "execution_count": 15,
   "metadata": {},
   "outputs": [
    {
     "name": "stdout",
     "output_type": "stream",
     "text": [
      "正しく分類できた数=36\n"
     ]
    }
   ],
   "source": [
    "y_pred = model.predict(X)\n",
    "print(\"正しく分類できた数={0:d}\".format( (y_pred == y).sum() ))"
   ]
  },
  {
   "cell_type": "markdown",
   "metadata": {},
   "source": [
    "## カーネル法"
   ]
  },
  {
   "cell_type": "code",
   "execution_count": 16,
   "metadata": {},
   "outputs": [],
   "source": [
    "from solver import SVCKernel"
   ]
  },
  {
   "cell_type": "code",
   "execution_count": 17,
   "metadata": {},
   "outputs": [],
   "source": [
    "np.random.seed(0)\n",
    "n = 100\n",
    "X0 = np.random.randn(n, 2)  # \"+\"の(x,y)をn点\n",
    "X1 = np.random.randn(n, 2) + np.array([2.5, 2.5])  # \"*\"の(x,y)をn点"
   ]
  },
  {
   "cell_type": "code",
   "execution_count": 18,
   "metadata": {},
   "outputs": [],
   "source": [
    "y = np.array([1] * n + [-1] * n)\n",
    "X = np.r_[X0, X1]"
   ]
  },
  {
   "cell_type": "code",
   "execution_count": 19,
   "metadata": {},
   "outputs": [],
   "source": [
    "C=1\n",
    "model = SVCKernel(C=C)\n",
    "model.fit(X, y)"
   ]
  },
  {
   "cell_type": "code",
   "execution_count": 20,
   "metadata": {},
   "outputs": [
    {
     "data": {
      "image/png": "[encoded data removed]",
      "text/plain": [
       "<Figure size 432x288 with 1 Axes>"
      ]
     },
     "metadata": {
      "needs_background": "light"
     },
     "output_type": "display_data"
    }
   ],
   "source": [
    "plt.axes().set_aspect('equal')\n",
    "plt.scatter(X0[:, 0], X0[:, 1], color=\"b\", marker=\"+\")\n",
    "plt.scatter(X1[:, 0], X1[:, 1], color=\"r\", marker=\"*\")\n",
    "\n",
    "xmin, xmax = X[:, 0].min(), X[:, 0].max()\n",
    "ymin, ymax = X[:, 1].min(), X[:, 1].max()\n",
    "xmesh, ymesh = np.meshgrid(np.linspace(xmin-5, xmax+5, 200), np.linspace(ymin-5, ymax+5, 200))\n",
    "zmesh = model.predict(np.c_[xmesh.ravel(), ymesh.ravel()]).reshape(xmesh.shape)\n",
    "plt.contour(xmesh, ymesh, zmesh, levels=[0], colors=\"k\")\n",
    "\n",
    "plt.scatter(X[model.a_ == C, 0], X[model.a_ == C, 1], s=100, color=(0,0,0,0), edgecolor=\"g\", marker=\"o\")\n",
    "\n",
    "plt.xlim(xmin-1, xmax+1)\n",
    "plt.ylim(ymin-1, ymax+1)\n",
    "\n",
    "plt.show()"
   ]
  },
  {
   "cell_type": "code",
   "execution_count": 21,
   "metadata": {},
   "outputs": [
    {
     "name": "stdout",
     "output_type": "stream",
     "text": [
      "[1.         1.         0.         0.         0.         0.\n",
      " 0.         0.         0.36288241 0.         0.7276288  0.\n",
      " 1.         0.         1.         0.         0.         0.\n",
      " 1.         0.         0.09358674 0.47792582 0.         0.\n",
      " 0.         0.         0.         0.         0.         0.\n",
      " 0.         0.         0.         0.         0.         0.\n",
      " 0.         0.         0.         0.         0.         0.\n",
      " 1.         0.         0.         0.         0.         0.\n",
      " 1.         0.         0.         0.         0.         0.\n",
      " 1.         1.         0.         0.         0.         0.24930301\n",
      " 0.         0.6470392  0.         0.         0.         0.\n",
      " 0.         0.         0.         0.         0.         0.\n",
      " 1.         0.         0.47306467 1.         0.         0.\n",
      " 0.         0.         0.25241806 0.         0.         0.\n",
      " 1.         0.         0.         0.         0.         0.\n",
      " 0.         0.81692677 0.16390084 0.         0.         0.\n",
      " 0.         0.         1.         1.         0.         0.\n",
      " 0.         0.         0.02040909 0.         0.         0.\n",
      " 0.         0.34043902 0.         0.         0.         0.\n",
      " 0.         1.         0.         0.         0.26516869 0.\n",
      " 0.         0.         1.         0.2149494  1.         0.29301812\n",
      " 0.         0.         1.         0.         0.22000039 0.\n",
      " 0.48811671 0.         0.         1.         0.         0.\n",
      " 0.         0.47549805 0.         0.         0.         0.\n",
      " 0.         0.         0.50765088 0.         0.         0.\n",
      " 0.         0.         0.         1.         0.         0.\n",
      " 1.         0.         0.         0.         0.         0.\n",
      " 0.         0.72493315 0.         0.         0.         1.\n",
      " 0.         0.         0.         0.97816565 0.         0.\n",
      " 0.         1.         0.         0.         1.         0.\n",
      " 0.         0.         0.44911797 0.         0.         0.\n",
      " 0.         0.         0.         0.         0.         1.\n",
      " 0.         1.         0.         0.         1.         0.\n",
      " 0.         0.28720922]\n"
     ]
    }
   ],
   "source": [
    "print(model.a_)"
   ]
  },
  {
   "cell_type": "code",
   "execution_count": 22,
   "metadata": {},
   "outputs": [
    {
     "name": "stdout",
     "output_type": "stream",
     "text": [
      "正しく分類できた数=190\n"
     ]
    }
   ],
   "source": [
    "y_pred = model.predict(X)\n",
    "print(\"正しく分類できた数={0:d}\".format( (y_pred == y).sum() ))"
   ]
  }
 ],
 "metadata": {
  "kernelspec": {
   "display_name": "Python 3",
   "language": "python",
   "name": "python3"
  },
  "language_info": {
   "codemirror_mode": {
    "name": "ipython",
    "version": 3
   },
   "file_extension": ".py",
   "mimetype": "text/x-python",
   "name": "python",
   "nbconvert_exporter": "python",
   "pygments_lexer": "ipython3",
   "version": "3.7.9"
  }
 },
 "nbformat": 4,
 "nbformat_minor": 4
}
