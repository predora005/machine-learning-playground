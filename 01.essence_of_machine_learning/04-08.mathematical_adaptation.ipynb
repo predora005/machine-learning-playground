{
 "cells": [
  {
   "cell_type": "markdown",
   "metadata": {},
   "source": [
    "# 数理最適化"
   ]
  },
  {
   "cell_type": "code",
   "execution_count": 1,
   "metadata": {},
   "outputs": [],
   "source": [
    "%matplotlib inline\n",
    "import matplotlib.pyplot as plt\n",
    "import numpy as np"
   ]
  },
  {
   "cell_type": "markdown",
   "metadata": {},
   "source": [
    "## 線形計画問題"
   ]
  },
  {
   "cell_type": "markdown",
   "metadata": {},
   "source": [
    "Minimize $\\boldsymbol{c^Tx}$\\\n",
    "Subject to $\\boldsymbol{Gx} \\leq \\boldsymbol{h} \\quad \\boldsymbol{Ax}=\\boldsymbol{b}$"
   ]
  },
  {
   "cell_type": "markdown",
   "metadata": {},
   "source": [
    "Maximize $3x+4y$\\\n",
    "Minimize $-3x-4y$"
   ]
  },
  {
   "cell_type": "markdown",
   "metadata": {},
   "source": [
    "Subject to\\\n",
    "$$\n",
    "    x + 4y <= 1700\\\\\n",
    "    2x + 3y <= 1400\\\\\n",
    "    2x + y <= 1000\\\\\n",
    "    x >= 0\\\\\n",
    "    y >= 0\n",
    "$$"
   ]
  },
  {
   "cell_type": "code",
   "execution_count": 2,
   "metadata": {},
   "outputs": [],
   "source": [
    "from scipy import optimize"
   ]
  },
  {
   "cell_type": "code",
   "execution_count": 3,
   "metadata": {},
   "outputs": [
    {
     "name": "stdout",
     "output_type": "stream",
     "text": [
      "[399.99988463 199.99996114]\n",
      "-1999.9994984688583\n"
     ]
    }
   ],
   "source": [
    "c = np.array([-3, -4], dtype=np.float64)\n",
    "G = np.array([ [1, 4], [2, 3], [2, 1] ], dtype=np.float64)\n",
    "h = np.array( [1700, 1400, 1000], dtype=np.float64)\n",
    "sol = optimize.linprog(c, A_ub=G, b_ub=h, bounds=(0, None))\n",
    "\n",
    "print(sol.x)\n",
    "print(sol.fun)"
   ]
  },
  {
   "cell_type": "markdown",
   "metadata": {},
   "source": [
    "## 二次計画法"
   ]
  },
  {
   "cell_type": "markdown",
   "metadata": {},
   "source": [
    "Minimize $\\frac{1}{2}\\boldsymbol{x^TPx}+\\boldsymbol{q^Tx}$\\\n",
    "Subject to $\\boldsymbol{Gx} \\leq \\boldsymbol{h} \\quad \\boldsymbol{Ax}=\\boldsymbol{b}$"
   ]
  },
  {
   "cell_type": "markdown",
   "metadata": {},
   "source": [
    "### 式04-07"
   ]
  },
  {
   "cell_type": "markdown",
   "metadata": {},
   "source": [
    "Minimize $f(x,y) = x^2 + xy + y^2 + 2x + 4y$"
   ]
  },
  {
   "cell_type": "markdown",
   "metadata": {},
   "source": [
    "$$\n",
    "    f(x,y) = \\frac{1}{2}\n",
    "        \\left(\n",
    "            \\begin{matrix}\n",
    "                x & y\\\\\n",
    "            \\end{matrix}\n",
    "        \\right)\n",
    "        \\left(\n",
    "            \\begin{matrix}\n",
    "                2 & 1\\\\\n",
    "                1 & 2\\\\\n",
    "            \\end{matrix}\n",
    "        \\right)\n",
    "        \\left(\n",
    "            \\begin{matrix}\n",
    "                x\\\\\n",
    "                y\\\\\n",
    "            \\end{matrix}\n",
    "        \\right)\n",
    "        + \n",
    "        \\left(\n",
    "            \\begin{matrix}\n",
    "                2 & 4\\\\\n",
    "            \\end{matrix}\n",
    "        \\right)\n",
    "        \\left(\n",
    "            \\begin{matrix}\n",
    "                x\\\\\n",
    "                y\\\\\n",
    "            \\end{matrix}\n",
    "        \\right)\n",
    "$$"
   ]
  },
  {
   "cell_type": "code",
   "execution_count": 4,
   "metadata": {},
   "outputs": [],
   "source": [
    "import cvxopt"
   ]
  },
  {
   "cell_type": "code",
   "execution_count": 5,
   "metadata": {},
   "outputs": [
    {
     "name": "stdout",
     "output_type": "stream",
     "text": [
      "[ 1.57e-16]\n",
      "[-2.00e+00]\n",
      "\n",
      "-4.0\n"
     ]
    }
   ],
   "source": [
    "P = cvxopt.matrix(np.array([ [2, 1], [1, 2] ],  dtype=np.float64))\n",
    "q = cvxopt.matrix(np.array([2, 4],  dtype=np.float64))\n",
    "\n",
    "sol = cvxopt.solvers.qp(P, q)\n",
    "\n",
    "print(sol[\"x\"])\n",
    "print(sol[\"primal objective\"])"
   ]
  },
  {
   "cell_type": "markdown",
   "metadata": {},
   "source": [
    "### 式04-08"
   ]
  },
  {
   "cell_type": "markdown",
   "metadata": {},
   "source": [
    "Minimize $f(x,y) = x^2 + xy + y^2 + 2x + 4y$\\\n",
    "Subject to $x + y = 0$"
   ]
  },
  {
   "cell_type": "markdown",
   "metadata": {},
   "source": [
    "$$\n",
    "    f(x,y) = \\frac{1}{2}\n",
    "        \\left(\n",
    "            \\begin{matrix}\n",
    "                x & y\\\\\n",
    "            \\end{matrix}\n",
    "        \\right)\n",
    "        \\left(\n",
    "            \\begin{matrix}\n",
    "                2 & 1\\\\\n",
    "                1 & 2\\\\\n",
    "            \\end{matrix}\n",
    "        \\right)\n",
    "        \\left(\n",
    "            \\begin{matrix}\n",
    "                x\\\\\n",
    "                y\\\\\n",
    "            \\end{matrix}\n",
    "        \\right)\n",
    "        + \n",
    "        \\left(\n",
    "            \\begin{matrix}\n",
    "                2 & 4\\\\\n",
    "            \\end{matrix}\n",
    "        \\right)\n",
    "        \\left(\n",
    "            \\begin{matrix}\n",
    "                x\\\\\n",
    "                y\\\\\n",
    "            \\end{matrix}\n",
    "        \\right)\n",
    "$$\n",
    "$$\n",
    "    \\left(\n",
    "        \\begin{matrix}\n",
    "            1 & 1\\\\\n",
    "        \\end{matrix}\n",
    "    \\right)   \n",
    "    \\left(\n",
    "        \\begin{matrix}\n",
    "            x\\\\\n",
    "            y\\\\\n",
    "        \\end{matrix}\n",
    "    \\right)\n",
    "    = 0    \n",
    "$$"
   ]
  },
  {
   "cell_type": "code",
   "execution_count": 6,
   "metadata": {},
   "outputs": [
    {
     "name": "stdout",
     "output_type": "stream",
     "text": [
      "[ 1.00e+00]\n",
      "[-1.00e+00]\n",
      "\n",
      "-1.0000000000000013\n"
     ]
    }
   ],
   "source": [
    "P = cvxopt.matrix(np.array([ [2, 1], [1, 2] ],  dtype=np.float64))\n",
    "q = cvxopt.matrix(np.array([2, 4],  dtype=np.float64))\n",
    "A = cvxopt.matrix(np.array([ [1, 1] ],  dtype=np.float64))\n",
    "b = cvxopt.matrix(np.array([0],  dtype=np.float64))\n",
    "\n",
    "sol = cvxopt.solvers.qp(P, q, A=A, b=b)\n",
    "\n",
    "print(sol[\"x\"])\n",
    "print(sol[\"primal objective\"])"
   ]
  },
  {
   "cell_type": "markdown",
   "metadata": {},
   "source": [
    "### 式04-09"
   ]
  },
  {
   "cell_type": "markdown",
   "metadata": {},
   "source": [
    "Minimize $f(x,y) = x^2 + xy + y^2 + 2x + 4y$\\\n",
    "Subject to $2x + 3y \\leq 3$"
   ]
  },
  {
   "cell_type": "markdown",
   "metadata": {},
   "source": [
    "$$\n",
    "    f(x,y) = \\frac{1}{2}\n",
    "        \\left(\n",
    "            \\begin{matrix}\n",
    "                x & y\\\\\n",
    "            \\end{matrix}\n",
    "        \\right)\n",
    "        \\left(\n",
    "            \\begin{matrix}\n",
    "                2 & 1\\\\\n",
    "                1 & 2\\\\\n",
    "            \\end{matrix}\n",
    "        \\right)\n",
    "        \\left(\n",
    "            \\begin{matrix}\n",
    "                x\\\\\n",
    "                y\\\\\n",
    "            \\end{matrix}\n",
    "        \\right)\n",
    "        + \n",
    "        \\left(\n",
    "            \\begin{matrix}\n",
    "                2 & 4\\\\\n",
    "            \\end{matrix}\n",
    "        \\right)\n",
    "        \\left(\n",
    "            \\begin{matrix}\n",
    "                x\\\\\n",
    "                y\\\\\n",
    "            \\end{matrix}\n",
    "        \\right)\n",
    "$$\n",
    "$$\n",
    "    \\left(\n",
    "        \\begin{matrix}\n",
    "            2 & 3\\\\\n",
    "        \\end{matrix}\n",
    "    \\right)   \n",
    "    \\left(\n",
    "        \\begin{matrix}\n",
    "            x\\\\\n",
    "            y\\\\\n",
    "        \\end{matrix}\n",
    "    \\right)\n",
    "    \\leq 3    \n",
    "$$"
   ]
  },
  {
   "cell_type": "code",
   "execution_count": 7,
   "metadata": {},
   "outputs": [
    {
     "name": "stdout",
     "output_type": "stream",
     "text": [
      "     pcost       dcost       gap    pres   dres\n",
      " 0:  1.8858e+00  2.9758e-01  2e+00  0e+00  2e+00\n",
      " 1: -2.1066e+00 -2.1546e+00  5e-02  2e-16  7e-01\n",
      " 2: -3.9999e+00 -4.0665e+00  7e-02  6e-16  8e-17\n",
      " 3: -4.0000e+00 -4.0007e+00  7e-04  9e-16  1e-16\n",
      " 4: -4.0000e+00 -4.0000e+00  7e-06  3e-16  6e-17\n",
      " 5: -4.0000e+00 -4.0000e+00  7e-08  3e-16  2e-16\n",
      "Optimal solution found.\n",
      "[-2.46e-09]\n",
      "[-2.00e+00]\n",
      "\n",
      "-4.0\n"
     ]
    }
   ],
   "source": [
    "P = cvxopt.matrix(np.array([ [2, 1], [1, 2] ],  dtype=np.float64))\n",
    "q = cvxopt.matrix(np.array([2, 4],  dtype=np.float64))\n",
    "G = cvxopt.matrix(np.array([ [2, 3] ],  dtype=np.float64))\n",
    "h = cvxopt.matrix(np.array([3],  dtype=np.float64))\n",
    "\n",
    "sol = cvxopt.solvers.qp(P, q, G=G, h=h)\n",
    "\n",
    "print(sol[\"x\"])\n",
    "print(sol[\"primal objective\"])"
   ]
  },
  {
   "cell_type": "markdown",
   "metadata": {},
   "source": [
    "## 勾配降下法"
   ]
  },
  {
   "cell_type": "markdown",
   "metadata": {},
   "source": [
    "Minimize $f(x,y) = 5x^2 - 6xy + 3y^2 + 6x - 6y$"
   ]
  },
  {
   "cell_type": "markdown",
   "metadata": {},
   "source": [
    "$$\n",
    "    \\nabla{f}= \\left(\n",
    "        \\begin{matrix}\n",
    "            \\frac{\\partial f}{\\partial x}\\\\\n",
    "            \\frac{\\partial f}{\\partial y}\\\\\n",
    "        \\end{matrix}\n",
    "    \\right) =\n",
    "    \\left(\n",
    "        \\begin{matrix}\n",
    "            10x - 6y + 6\\\\\n",
    "            -6x + 6y - 6\\\\\n",
    "        \\end{matrix}\n",
    "    \\right)\n",
    "$$"
   ]
  },
  {
   "cell_type": "code",
   "execution_count": 8,
   "metadata": {},
   "outputs": [],
   "source": [
    "from solver import GradientDescent"
   ]
  },
  {
   "cell_type": "code",
   "execution_count": 9,
   "metadata": {},
   "outputs": [],
   "source": [
    "def f(xx):\n",
    "    x = xx[0]\n",
    "    y = xx[1]\n",
    "    return 5*x**2 - 6*x*y + 3*y**2 + 6*x - 6*y\n",
    "\n",
    "def df(xx):\n",
    "    x = xx[0]\n",
    "    y = xx[1]\n",
    "    df_x = 10*x -6*y +6\n",
    "    df_y = -6*x +6*y -6\n",
    "    return np.array([df_x, df_y])"
   ]
  },
  {
   "cell_type": "code",
   "execution_count": 10,
   "metadata": {},
   "outputs": [
    {
     "name": "stdout",
     "output_type": "stream",
     "text": [
      "[3.39176986e-07 1.00000047e+00]\n",
      "-2.999999999999719\n"
     ]
    }
   ],
   "source": [
    "algo = GradientDescent(f, df, alpha=0.05)\n",
    "initial = np.array([1, 1])\n",
    "algo.solve(initial)\n",
    "print(algo.x_)\n",
    "print(algo.opt_)"
   ]
  },
  {
   "cell_type": "code",
   "execution_count": 11,
   "metadata": {},
   "outputs": [
    {
     "data": {
      "text/plain": [
       "<matplotlib.contour.QuadContourSet at 0x7f3f5558ce90>"
      ]
     },
     "execution_count": 11,
     "metadata": {},
     "output_type": "execute_result"
    },
    {
     "data": {
      "image/png": "[encoded data removed]",
      "text/plain": [
       "<Figure size 432x288 with 1 Axes>"
      ]
     },
     "metadata": {
      "needs_background": "light"
     },
     "output_type": "display_data"
    }
   ],
   "source": [
    "path_x = algo.path_[:, 0] \n",
    "path_y = algo.path_[:, 1] \n",
    "\n",
    "# 始点と経路の描画\n",
    "plt.scatter(initial[0], initial[1], color=\"k\", marker=\"o\")\n",
    "plt.plot(path_x, path_y, color=\"k\", linewidth=1.5)\n",
    "\n",
    "# 等高線の描画\n",
    "xs = np.linspace(-2, 2, 100)\n",
    "ys = np.linspace(-2, 4, 100)\n",
    "xmesh, ymesh = np.meshgrid(xs, ys)\n",
    "#xx = np.r_[xmesh.reshape(1, -1), ymesh.reshape(1, -1)]\n",
    "xx = np.r_[[xmesh.ravel()], [ymesh.ravel()]]\n",
    "#print(xx)\n",
    "\n",
    "levels = np.linspace(-3, 4, 10)\n",
    "plt.contour(xs, ys, f(xx).reshape(xmesh.shape), levels=levels, colors=\"k\", linestyles=\"dotted\")"
   ]
  },
  {
   "cell_type": "code",
   "execution_count": 12,
   "metadata": {},
   "outputs": [
    {
     "name": "stdout",
     "output_type": "stream",
     "text": [
      "159\n"
     ]
    }
   ],
   "source": [
    "print(len(algo.path_))"
   ]
  },
  {
   "cell_type": "markdown",
   "metadata": {},
   "source": [
    "## ニュートン法"
   ]
  },
  {
   "cell_type": "markdown",
   "metadata": {},
   "source": [
    "$$\n",
    "    x_{k+1} = x_k - J_f(x_k)^{-1}f(x_k)\n",
    "$$"
   ]
  },
  {
   "cell_type": "code",
   "execution_count": 13,
   "metadata": {},
   "outputs": [],
   "source": [
    "from solver import Newton"
   ]
  },
  {
   "cell_type": "markdown",
   "metadata": {},
   "source": [
    "### 1次元"
   ]
  },
  {
   "cell_type": "markdown",
   "metadata": {},
   "source": [
    "$ x^3 -5x + 1 = 0 $"
   ]
  },
  {
   "cell_type": "code",
   "execution_count": 14,
   "metadata": {},
   "outputs": [],
   "source": [
    "def f(x):\n",
    "    return x**3 -5*x +1\n",
    "\n",
    "def df(x):\n",
    "    return 3*x**2 - 5"
   ]
  },
  {
   "cell_type": "code",
   "execution_count": 31,
   "metadata": {},
   "outputs": [
    {
     "name": "stdout",
     "output_type": "stream",
     "text": [
      "[[-2.33005874]]\n",
      "[[0.20163968]]\n",
      "[[2.12841906]]\n"
     ]
    },
    {
     "data": {
      "image/png": "[encoded data removed]",
      "text/plain": [
       "<Figure size 432x288 with 1 Axes>"
      ]
     },
     "metadata": {
      "needs_background": "light"
     },
     "output_type": "display_data"
    }
   ],
   "source": [
    "solver = Newton(f, df)\n",
    "#initials = [-3, 0, 2]\n",
    "#initials = [np.array([-3]), np.array([0]), np.array([2])]\n",
    "initials = [np.array([[-3]]), np.array([[0]]), np.array([[2]])]\n",
    "markers = [\"+\", \"*\", \"x\"]\n",
    "colors = [\"r\", \"g\", \"b\"]\n",
    "\n",
    "for x0, mark, color in zip(initials, markers, colors):\n",
    "    sol = solver.solve(x0)\n",
    "    path_x = solver.path_[:, 0]\n",
    "    path_y = f(path_x)\n",
    "    #path_y = solver.path_[:, 1]\n",
    "    plt.plot(path_x, path_y, color=color, marker=mark)\n",
    "    print(sol)\n",
    "    \n",
    "plt.show()"
   ]
  },
  {
   "cell_type": "markdown",
   "metadata": {},
   "source": [
    "### 多次元"
   ]
  },
  {
   "cell_type": "markdown",
   "metadata": {},
   "source": [
    "$$\n",
    "    f_1(x, y) = x^3 -2y = 0\\\\\n",
    "    f_2(x, y) = x^2 + y^2 - 1 = 0\n",
    "$$"
   ]
  },
  {
   "cell_type": "code",
   "execution_count": 97,
   "metadata": {},
   "outputs": [],
   "source": [
    "def f1(x, y):\n",
    "    return x**3 - 2*y\n",
    "\n",
    "def f2(x, y):\n",
    "    return x**2 + y**2 -1\n",
    "\n",
    "def f(xx):\n",
    "    x = xx[0]\n",
    "    y = xx[1]\n",
    "    return np.array([f1(x, y), f2(x, y)])\n",
    "\n",
    "def df(xx):\n",
    "    x = xx[0]\n",
    "    y = xx[1]\n",
    "    df1 = [3*x**2, -2]\n",
    "    df2 = [2*x, 2*y]\n",
    "    return np.array([df1, df2])"
   ]
  },
  {
   "cell_type": "code",
   "execution_count": 98,
   "metadata": {},
   "outputs": [
    {
     "name": "stdout",
     "output_type": "stream",
     "text": [
      "[-0.92071038 -0.39024659]\n",
      "[0.92071038 0.39024659]\n",
      "[0.92071038 0.39024659]\n"
     ]
    },
    {
     "data": {
      "image/png": "[encoded data removed]",
      "text/plain": [
       "<Figure size 432x288 with 1 Axes>"
      ]
     },
     "metadata": {
      "needs_background": "light"
     },
     "output_type": "display_data"
    }
   ],
   "source": [
    "solver = Newton(f, df)\n",
    "initials = [np.array([-3, -3]), np.array([1, 1]), np.array([3, 3])]\n",
    "markers = [\"+\", \"*\", \"x\"]\n",
    "colors = [\"r\", \"g\", \"b\"]\n",
    "\n",
    "for x0, mark, color in zip(initials, markers, colors):\n",
    "    sol = solver.solve(x0)\n",
    "    path_x = solver.path_[:, 0]\n",
    "    #path_y = f(path_x)\n",
    "    path_y = solver.path_[:, 1]\n",
    "    plt.plot(path_x, path_y, color=color, marker=mark)\n",
    "    print(sol)\n",
    "\n",
    "# 等高線の描画\n",
    "xs = np.linspace(-3, 3, 100)\n",
    "ys = np.linspace(-3, 3, 100)\n",
    "xmesh, ymesh = np.meshgrid(xs, ys)\n",
    "\n",
    "z1 = f1(xmesh, ymesh)\n",
    "z2 = f2(xmesh, ymesh)\n",
    "\n",
    "levels = [0]\n",
    "plt.xlim(-3, 3)\n",
    "plt.ylim(-3, 3)\n",
    "plt.contour(xmesh, ymesh, z1, levels=levels, colors=\"k\", linestyles=\"dotted\")\n",
    "plt.contour(xmesh, ymesh, z2, levels=levels, colors=\"k\", linestyles=\"--\")\n",
    "plt.show()"
   ]
  },
  {
   "cell_type": "markdown",
   "metadata": {},
   "source": [
    "## ラグランジュ未定乗数法"
   ]
  },
  {
   "cell_type": "markdown",
   "metadata": {},
   "source": [
    "$$\n",
    "    L(x, y, \\lambda) = f(x, y) + \\lambda g(x, y) = 0\\\\\n",
    "    \\nabla{L} = \\left(\n",
    "        \\begin{matrix}\n",
    "            \\frac{\\partial L}{\\partial x}\\\\\n",
    "            \\frac{\\partial L}{\\partial y}\\\\\n",
    "            \\frac{\\partial L}{\\partial \\lambda}\\\\\n",
    "        \\end{matrix}\n",
    "    \\right) = 0\n",
    "$$"
   ]
  },
  {
   "cell_type": "markdown",
   "metadata": {},
   "source": [
    "Minimize $f(x,y) = 5x^2 + 6xy + 5y^2 - 26x - 26y$\\\n",
    "Subject to $g(x, y) = x^2 + y^2 -4 = 0$"
   ]
  },
  {
   "cell_type": "markdown",
   "metadata": {},
   "source": [
    "$$\n",
    "    \\begin{cases}\n",
    "        10x + 6y - 26 + 2\\lambda{x} = 0\\\\\n",
    "        10y + 6x - 26 + 2\\lambda{y} = 0\\\\\n",
    "        x^2 + y^2 -4 = 0\\\\\n",
    "    \\end{cases}\n",
    "$$"
   ]
  },
  {
   "cell_type": "code",
   "execution_count": 99,
   "metadata": {},
   "outputs": [],
   "source": [
    "def f(X):\n",
    "    x, y = X\n",
    "    return 5*x**2 + 6*x*y + 5*y**2 - 26*x - 26*y\n",
    "\n",
    "def g(X):\n",
    "    x, y = X\n",
    "    return x**2 + y**2 - 4\n",
    "\n",
    "def df(X):\n",
    "    x, y, L = X\n",
    "    df_x = 10*x + 6*y - 26 + 2*L*x\n",
    "    df_y = 10*y + 6*x - 26 + 2*L*y\n",
    "    df_L = x**2 + y**2 - 4\n",
    "    return np.array([df_x, df_y, df_L])"
   ]
  },
  {
   "cell_type": "code",
   "execution_count": 100,
   "metadata": {},
   "outputs": [],
   "source": [
    "from scipy.optimize import fsolve"
   ]
  },
  {
   "cell_type": "code",
   "execution_count": 101,
   "metadata": {},
   "outputs": [
    {
     "name": "stdout",
     "output_type": "stream",
     "text": [
      "[1.41421356 1.41421356 1.19238816]\n",
      "-41.53910524340608\n"
     ]
    }
   ],
   "source": [
    "root = fsolve(df, [1, 1, 1])\n",
    "x, y = root[0], root[1]\n",
    "print(root)\n",
    "print(f([x, y]))"
   ]
  },
  {
   "cell_type": "code",
   "execution_count": 105,
   "metadata": {},
   "outputs": [
    {
     "data": {
      "image/png": "[encoded data removed]",
      "text/plain": [
       "<Figure size 432x288 with 1 Axes>"
      ]
     },
     "metadata": {
      "needs_background": "light"
     },
     "output_type": "display_data"
    }
   ],
   "source": [
    "# f(x, y)が最小値となる点をプロット\n",
    "plt.plot(x, y, color=\"r\", marker=\"o\")\n",
    "\n",
    "# 等高線の描画\n",
    "xs = np.linspace(-3, 6, 100)\n",
    "ys = np.linspace(-3, 6, 100)\n",
    "xmesh, ymesh = np.meshgrid(xs, ys)\n",
    "\n",
    "fx = f([xmesh, ymesh])\n",
    "gx = g([xmesh, ymesh])\n",
    "\n",
    "levels_f = [-41.5, -40, -30, -20, -10, 0]\n",
    "levels_g = [0]\n",
    "\n",
    "plt.xlim(-3, 6)\n",
    "plt.ylim(-3, 6)\n",
    "plt.contour(xmesh, ymesh, fx, levels=levels_f, colors=\"k\", linestyles=\"dotted\")\n",
    "plt.contour(xmesh, ymesh, gx, levels=levels_g, colors=\"k\", linestyles=\"--\")\n",
    "plt.show()"
   ]
  },
  {
   "cell_type": "code",
   "execution_count": null,
   "metadata": {},
   "outputs": [],
   "source": []
  }
 ],
 "metadata": {
  "kernelspec": {
   "display_name": "Python 3",
   "language": "python",
   "name": "python3"
  },
  "language_info": {
   "codemirror_mode": {
    "name": "ipython",
    "version": 3
   },
   "file_extension": ".py",
   "mimetype": "text/x-python",
   "name": "python",
   "nbconvert_exporter": "python",
   "pygments_lexer": "ipython3",
   "version": "3.7.8"
  }
 },
 "nbformat": 4,
 "nbformat_minor": 4
}
