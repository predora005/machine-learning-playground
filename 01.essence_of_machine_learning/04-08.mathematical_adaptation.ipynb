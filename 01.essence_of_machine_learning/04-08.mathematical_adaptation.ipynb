{
 "cells": [
  {
   "cell_type": "markdown",
   "metadata": {},
   "source": [
    "# 数理最適化"
   ]
  },
  {
   "cell_type": "code",
   "execution_count": 1,
   "metadata": {},
   "outputs": [],
   "source": [
    "%matplotlib inline\n",
    "import matplotlib.pyplot as plt\n",
    "import numpy as np"
   ]
  },
  {
   "cell_type": "markdown",
   "metadata": {},
   "source": [
    "## 線形計画問題"
   ]
  },
  {
   "cell_type": "markdown",
   "metadata": {},
   "source": [
    "Minimize $\\boldsymbol{c^Tx}$\\\n",
    "Subject to $\\boldsymbol{Gx} \\leq \\boldsymbol{h} \\quad \\boldsymbol{Ax}=\\boldsymbol{b}$"
   ]
  },
  {
   "cell_type": "markdown",
   "metadata": {},
   "source": [
    "Maximize $3x+4y$\\\n",
    "Minimize $-3x-4y$"
   ]
  },
  {
   "cell_type": "markdown",
   "metadata": {},
   "source": [
    "Subject to\\\n",
    "$$\n",
    "    x + 4y <= 1700\\\\\n",
    "    2x + 3y <= 1400\\\\\n",
    "    2x + y <= 1000\\\\\n",
    "    x >= 0\\\\\n",
    "    y >= 0\n",
    "$$"
   ]
  },
  {
   "cell_type": "code",
   "execution_count": 2,
   "metadata": {},
   "outputs": [],
   "source": [
    "from scipy import optimize"
   ]
  },
  {
   "cell_type": "code",
   "execution_count": 3,
   "metadata": {},
   "outputs": [
    {
     "name": "stdout",
     "output_type": "stream",
     "text": [
      "[399.99988463 199.99996114]\n",
      "-1999.9994984688583\n"
     ]
    }
   ],
   "source": [
    "c = np.array([-3, -4], dtype=np.float64)\n",
    "G = np.array([ [1, 4], [2, 3], [2, 1] ], dtype=np.float64)\n",
    "h = np.array( [1700, 1400, 1000], dtype=np.float64)\n",
    "sol = optimize.linprog(c, A_ub=G, b_ub=h, bounds=(0, None))\n",
    "\n",
    "print(sol.x)\n",
    "print(sol.fun)"
   ]
  },
  {
   "cell_type": "markdown",
   "metadata": {},
   "source": [
    "## 二次計画法"
   ]
  },
  {
   "cell_type": "markdown",
   "metadata": {},
   "source": [
    "Minimize $\\frac{1}{2}\\boldsymbol{x^TPx}+\\boldsymbol{q^Tx}$\\\n",
    "Subject to $\\boldsymbol{Gx} \\leq \\boldsymbol{h} \\quad \\boldsymbol{Ax}=\\boldsymbol{b}$"
   ]
  },
  {
   "cell_type": "markdown",
   "metadata": {},
   "source": [
    "### 式04-07"
   ]
  },
  {
   "cell_type": "markdown",
   "metadata": {},
   "source": [
    "Minimize $f(x,y) = x^2 + xy + y^2 + 2x + 4y$"
   ]
  },
  {
   "cell_type": "markdown",
   "metadata": {},
   "source": [
    "$$\n",
    "    f(x,y) = \\frac{1}{2}\n",
    "        \\left(\n",
    "            \\begin{matrix}\n",
    "                x & y\\\\\n",
    "            \\end{matrix}\n",
    "        \\right)\n",
    "        \\left(\n",
    "            \\begin{matrix}\n",
    "                2 & 1\\\\\n",
    "                1 & 2\\\\\n",
    "            \\end{matrix}\n",
    "        \\right)\n",
    "        \\left(\n",
    "            \\begin{matrix}\n",
    "                x\\\\\n",
    "                y\\\\\n",
    "            \\end{matrix}\n",
    "        \\right)\n",
    "        + \n",
    "        \\left(\n",
    "            \\begin{matrix}\n",
    "                2 & 4\\\\\n",
    "            \\end{matrix}\n",
    "        \\right)\n",
    "        \\left(\n",
    "            \\begin{matrix}\n",
    "                x\\\\\n",
    "                y\\\\\n",
    "            \\end{matrix}\n",
    "        \\right)\n",
    "$$"
   ]
  },
  {
   "cell_type": "code",
   "execution_count": 4,
   "metadata": {},
   "outputs": [],
   "source": [
    "import cvxopt"
   ]
  },
  {
   "cell_type": "code",
   "execution_count": 5,
   "metadata": {},
   "outputs": [
    {
     "name": "stdout",
     "output_type": "stream",
     "text": [
      "[ 1.57e-16]\n",
      "[-2.00e+00]\n",
      "\n",
      "-4.0\n"
     ]
    }
   ],
   "source": [
    "P = cvxopt.matrix(np.array([ [2, 1], [1, 2] ],  dtype=np.float64))\n",
    "q = cvxopt.matrix(np.array([2, 4],  dtype=np.float64))\n",
    "\n",
    "sol = cvxopt.solvers.qp(P, q)\n",
    "\n",
    "print(sol[\"x\"])\n",
    "print(sol[\"primal objective\"])"
   ]
  },
  {
   "cell_type": "markdown",
   "metadata": {},
   "source": [
    "### 式04-08"
   ]
  },
  {
   "cell_type": "markdown",
   "metadata": {},
   "source": [
    "Minimize $f(x,y) = x^2 + xy + y^2 + 2x + 4y$\\\n",
    "Subject to $x + y = 0$"
   ]
  },
  {
   "cell_type": "markdown",
   "metadata": {},
   "source": [
    "$$\n",
    "    f(x,y) = \\frac{1}{2}\n",
    "        \\left(\n",
    "            \\begin{matrix}\n",
    "                x & y\\\\\n",
    "            \\end{matrix}\n",
    "        \\right)\n",
    "        \\left(\n",
    "            \\begin{matrix}\n",
    "                2 & 1\\\\\n",
    "                1 & 2\\\\\n",
    "            \\end{matrix}\n",
    "        \\right)\n",
    "        \\left(\n",
    "            \\begin{matrix}\n",
    "                x\\\\\n",
    "                y\\\\\n",
    "            \\end{matrix}\n",
    "        \\right)\n",
    "        + \n",
    "        \\left(\n",
    "            \\begin{matrix}\n",
    "                2 & 4\\\\\n",
    "            \\end{matrix}\n",
    "        \\right)\n",
    "        \\left(\n",
    "            \\begin{matrix}\n",
    "                x\\\\\n",
    "                y\\\\\n",
    "            \\end{matrix}\n",
    "        \\right)\n",
    "$$\n",
    "$$\n",
    "    \\left(\n",
    "        \\begin{matrix}\n",
    "            1 & 1\\\\\n",
    "        \\end{matrix}\n",
    "    \\right)   \n",
    "    \\left(\n",
    "        \\begin{matrix}\n",
    "            x\\\\\n",
    "            y\\\\\n",
    "        \\end{matrix}\n",
    "    \\right)\n",
    "    = 0    \n",
    "$$"
   ]
  },
  {
   "cell_type": "code",
   "execution_count": 6,
   "metadata": {},
   "outputs": [
    {
     "name": "stdout",
     "output_type": "stream",
     "text": [
      "[ 1.00e+00]\n",
      "[-1.00e+00]\n",
      "\n",
      "-1.0000000000000013\n"
     ]
    }
   ],
   "source": [
    "P = cvxopt.matrix(np.array([ [2, 1], [1, 2] ],  dtype=np.float64))\n",
    "q = cvxopt.matrix(np.array([2, 4],  dtype=np.float64))\n",
    "A = cvxopt.matrix(np.array([ [1, 1] ],  dtype=np.float64))\n",
    "b = cvxopt.matrix(np.array([0],  dtype=np.float64))\n",
    "\n",
    "sol = cvxopt.solvers.qp(P, q, A=A, b=b)\n",
    "\n",
    "print(sol[\"x\"])\n",
    "print(sol[\"primal objective\"])"
   ]
  },
  {
   "cell_type": "markdown",
   "metadata": {},
   "source": [
    "### 式04-09"
   ]
  },
  {
   "cell_type": "markdown",
   "metadata": {},
   "source": [
    "Minimize $f(x,y) = x^2 + xy + y^2 + 2x + 4y$\\\n",
    "Subject to $2x + 3y \\leq 3$"
   ]
  },
  {
   "cell_type": "markdown",
   "metadata": {},
   "source": [
    "$$\n",
    "    f(x,y) = \\frac{1}{2}\n",
    "        \\left(\n",
    "            \\begin{matrix}\n",
    "                x & y\\\\\n",
    "            \\end{matrix}\n",
    "        \\right)\n",
    "        \\left(\n",
    "            \\begin{matrix}\n",
    "                2 & 1\\\\\n",
    "                1 & 2\\\\\n",
    "            \\end{matrix}\n",
    "        \\right)\n",
    "        \\left(\n",
    "            \\begin{matrix}\n",
    "                x\\\\\n",
    "                y\\\\\n",
    "            \\end{matrix}\n",
    "        \\right)\n",
    "        + \n",
    "        \\left(\n",
    "            \\begin{matrix}\n",
    "                2 & 4\\\\\n",
    "            \\end{matrix}\n",
    "        \\right)\n",
    "        \\left(\n",
    "            \\begin{matrix}\n",
    "                x\\\\\n",
    "                y\\\\\n",
    "            \\end{matrix}\n",
    "        \\right)\n",
    "$$\n",
    "$$\n",
    "    \\left(\n",
    "        \\begin{matrix}\n",
    "            2 & 3\\\\\n",
    "        \\end{matrix}\n",
    "    \\right)   \n",
    "    \\left(\n",
    "        \\begin{matrix}\n",
    "            x\\\\\n",
    "            y\\\\\n",
    "        \\end{matrix}\n",
    "    \\right)\n",
    "    \\leq 3    \n",
    "$$"
   ]
  },
  {
   "cell_type": "code",
   "execution_count": 7,
   "metadata": {},
   "outputs": [
    {
     "name": "stdout",
     "output_type": "stream",
     "text": [
      "     pcost       dcost       gap    pres   dres\n",
      " 0:  1.8858e+00  2.9758e-01  2e+00  0e+00  2e+00\n",
      " 1: -2.1066e+00 -2.1546e+00  5e-02  2e-16  7e-01\n",
      " 2: -3.9999e+00 -4.0665e+00  7e-02  6e-16  8e-17\n",
      " 3: -4.0000e+00 -4.0007e+00  7e-04  9e-16  1e-16\n",
      " 4: -4.0000e+00 -4.0000e+00  7e-06  3e-16  6e-17\n",
      " 5: -4.0000e+00 -4.0000e+00  7e-08  3e-16  2e-16\n",
      "Optimal solution found.\n",
      "[-2.46e-09]\n",
      "[-2.00e+00]\n",
      "\n",
      "-4.0\n"
     ]
    }
   ],
   "source": [
    "P = cvxopt.matrix(np.array([ [2, 1], [1, 2] ],  dtype=np.float64))\n",
    "q = cvxopt.matrix(np.array([2, 4],  dtype=np.float64))\n",
    "G = cvxopt.matrix(np.array([ [2, 3] ],  dtype=np.float64))\n",
    "h = cvxopt.matrix(np.array([3],  dtype=np.float64))\n",
    "\n",
    "sol = cvxopt.solvers.qp(P, q, G=G, h=h)\n",
    "\n",
    "print(sol[\"x\"])\n",
    "print(sol[\"primal objective\"])"
   ]
  },
  {
   "cell_type": "code",
   "execution_count": null,
   "metadata": {},
   "outputs": [],
   "source": []
  }
 ],
 "metadata": {
  "kernelspec": {
   "display_name": "Python 3",
   "language": "python",
   "name": "python3"
  },
  "language_info": {
   "codemirror_mode": {
    "name": "ipython",
    "version": 3
   },
   "file_extension": ".py",
   "mimetype": "text/x-python",
   "name": "python",
   "nbconvert_exporter": "python",
   "pygments_lexer": "ipython3",
   "version": "3.7.8"
  }
 },
 "nbformat": 4,
 "nbformat_minor": 4
}
