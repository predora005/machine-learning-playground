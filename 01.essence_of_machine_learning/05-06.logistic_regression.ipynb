{
 "cells": [
  {
   "cell_type": "markdown",
   "metadata": {},
   "source": [
    "# ロジスティック回帰"
   ]
  },
  {
   "cell_type": "code",
   "execution_count": 1,
   "metadata": {},
   "outputs": [],
   "source": [
    "%matplotlib inline\n",
    "import matplotlib.pyplot as plt\n",
    "import numpy as np"
   ]
  },
  {
   "cell_type": "markdown",
   "metadata": {},
   "source": [
    "$  P(Y = 1| X = \\boldsymbol{x}) = \\sigma(\\omega_0 + \\sum^{d}_{j=1}x_j\\omega_j) = \\sigma(\\boldsymbol{\\omega^T \\tilde{x}^T}) $\\\n",
    "$ \\sigma(\\xi) = \\frac{1}{1 + e^{-\\xi}} $"
   ]
  },
  {
   "cell_type": "markdown",
   "metadata": {},
   "source": [
    "$ P(Y = y| X = \\boldsymbol{x}) = P(Y = 1| X = \\boldsymbol{x})^y P(Y = 0| X = \\boldsymbol{x})^{1-y} $\\\n",
    "$ ~~~~~~~~~~~~~~~~~~~~~~~~~~~= \\sigma(\\boldsymbol{\\tilde{x}^T}\\omega )^y (1 - \\sigma(\\boldsymbol{\\tilde{x}^T}\\omega))^{1-y} $"
   ]
  },
  {
   "cell_type": "markdown",
   "metadata": {},
   "source": [
    "$ \\boldsymbol{\\tilde{y}} = ( \\sigma(\\boldsymbol{\\omega}^T\\boldsymbol{x}_1), \\sigma(\\boldsymbol{\\omega}^T\\boldsymbol{x}_2), \\ldots , \\sigma(\\boldsymbol{\\omega}^T\\boldsymbol{x}_n) ) $"
   ]
  },
  {
   "cell_type": "markdown",
   "metadata": {},
   "source": [
    "$\n",
    "    R = \\begin{pmatrix}\n",
    "        \\tilde{y}_1(1 - \\tilde{y}_1) \\\\\n",
    "         & \\tilde{y}_2(1 - \\tilde{y}_2) \\\\\n",
    "         && \\ddots \\\\\n",
    "         &&& \\tilde{y}_n(1 - \\tilde{y}_n) \\\\\n",
    "    \\end{pmatrix} \\\\\n",
    "    H = \\boldsymbol{\\tilde{X}^TR\\tilde{X}}\n",
    "$"
   ]
  },
  {
   "cell_type": "markdown",
   "metadata": {},
   "source": [
    "$ \\boldsymbol{\\omega}^{new} = \\boldsymbol{\\omega}^{old} - \\boldsymbol{H}^{-1}\t\\bigtriangledown{E}(\\boldsymbol{\\omega}^{old}) $\\\n",
    "$ \\boldsymbol{\\omega}^{new} = \\boldsymbol{\\omega}^{old} - (\\boldsymbol{X^{T}RX})^{-1}(\\boldsymbol{X^{T}R})[\\boldsymbol{X\\omega}^{old} - \\boldsymbol{R}^{-1}(\\boldsymbol{\\tilde{y}} - \\boldsymbol{y}) ] $"
   ]
  },
  {
   "cell_type": "code",
   "execution_count": 2,
   "metadata": {},
   "outputs": [],
   "source": [
    "import os, subprocess\n",
    "import csv\n",
    "from solver import LogisticRegression"
   ]
  },
  {
   "cell_type": "code",
   "execution_count": 3,
   "metadata": {},
   "outputs": [],
   "source": [
    "filename = \"wdbc.data\"\n",
    "if not os.path.isfile(filename):\n",
    "    url = \"https://archive.ics.uci.edu/ml/machine-learning-databases/breast-cancer-wisconsin/wdbc.data\"\n",
    "    result = subprocess.run(['curl', '-O', url], stdout=subprocess.DEVNULL, stderr=subprocess.DEVNULL)\n",
    "    print(result)"
   ]
  },
  {
   "cell_type": "code",
   "execution_count": 4,
   "metadata": {},
   "outputs": [
    {
     "name": "stdout",
     "output_type": "stream",
     "text": [
      "良性:357, 悪性:212\n"
     ]
    }
   ],
   "source": [
    "n_test = 100\n",
    "X = []\n",
    "y = []\n",
    "\n",
    "b_count, m_count = 0, 0\n",
    "with open(filename) as fp:\n",
    "    for row in csv.reader(fp):\n",
    "        if row[1] == \"B\":\n",
    "            y.append(0)\n",
    "            b_count += 1\n",
    "        else:\n",
    "            y.append(1)\n",
    "            m_count += 1\n",
    "        X.append(row[2:])\n",
    "\n",
    "X = np.array(X, dtype=np.float64)\n",
    "y = np.array(y, dtype=np.float64)\n",
    "\n",
    "print(\"良性:{0:d}, 悪性:{1:d}\".format(b_count, m_count))"
   ]
  },
  {
   "cell_type": "code",
   "execution_count": 5,
   "metadata": {},
   "outputs": [
    {
     "name": "stdout",
     "output_type": "stream",
     "text": [
      "   1: Diff=1.000000e+00, Abs=1.882873e+10\n",
      "   2: Diff=5.571873e-01, Abs=2.977844e+10\n",
      "   3: Diff=3.667929e-01, Abs=3.858524e+10\n",
      "   4: Diff=2.436406e-01, Abs=4.413354e+10\n",
      "   5: Diff=1.767668e-01, Abs=4.774337e+10\n",
      "   6: Diff=1.199008e-01, Abs=4.962236e+10\n",
      "   7: Diff=1.177193e-01, Abs=5.345022e+10\n",
      "   8: Diff=8.657243e-02, Abs=5.495078e+10\n",
      "   9: Diff=1.417272e-01, Abs=5.985155e+10\n",
      "  10: Diff=1.324112e-01, Abs=5.819850e+10\n",
      "  11: Diff=9.906476e-02, Abs=6.148620e+10\n",
      "  12: Diff=7.040512e-02, Abs=6.208431e+10\n",
      "  13: Diff=8.628514e-02, Abs=6.435014e+10\n",
      "  14: Diff=5.809449e-02, Abs=6.477067e+10\n",
      "  15: Diff=6.641806e-02, Abs=6.577039e+10\n",
      "  16: Diff=8.245089e-02, Abs=6.656222e+10\n",
      "  17: Diff=9.373977e-02, Abs=7.177143e+10\n",
      "  18: Diff=9.291837e-02, Abs=7.059929e+10\n",
      "  19: Diff=5.470154e-02, Abs=7.214281e+10\n",
      "  20: Diff=1.281598e-01, Abs=6.984335e+10\n",
      "  21: Diff=7.079397e-02, Abs=7.312536e+10\n",
      "  22: Diff=1.430424e-01, Abs=6.695258e+10\n",
      "  23: Diff=1.293375e-01, Abs=7.175126e+10\n",
      "  24: Diff=5.283794e-02, Abs=7.285119e+10\n",
      "  25: Diff=9.932043e-02, Abs=7.090914e+10\n",
      "  26: Diff=1.405605e-01, Abs=7.075654e+10\n",
      "  27: Diff=8.883139e-02, Abs=7.113487e+10\n",
      "  28: Diff=9.601562e-02, Abs=7.559927e+10\n",
      "  29: Diff=7.142512e-02, Abs=7.470280e+10\n",
      "  30: Diff=9.550039e-02, Abs=7.757601e+10\n",
      "  31: Diff=1.262061e-01, Abs=7.109338e+10\n",
      "  32: Diff=1.496212e-01, Abs=6.919218e+10\n",
      "  33: Diff=1.287770e-01, Abs=6.794875e+10\n",
      "  34: Diff=1.053185e-01, Abs=7.046473e+10\n",
      "  35: Diff=6.343934e-02, Abs=7.167481e+10\n",
      "  36: Diff=5.047500e-02, Abs=7.312220e+10\n",
      "  37: Diff=7.190528e-02, Abs=7.144594e+10\n",
      "  38: Diff=1.276814e-01, Abs=7.252114e+10\n",
      "  39: Diff=1.519801e-01, Abs=6.989401e+10\n",
      "  40: Diff=2.221450e-01, Abs=6.530780e+10\n",
      "  41: Diff=1.049384e-01, Abs=6.945667e+10\n",
      "  42: Diff=9.943037e-02, Abs=6.926282e+10\n",
      "  43: Diff=4.878453e-02, Abs=7.135534e+10\n",
      "  44: Diff=4.832370e-02, Abs=6.842950e+10\n",
      "  45: Diff=6.470199e-02, Abs=6.824823e+10\n",
      "  46: Diff=6.771886e-02, Abs=7.181907e+10\n",
      "  47: Diff=1.789749e-01, Abs=6.717291e+10\n",
      "  48: Diff=1.531017e-01, Abs=7.494983e+10\n",
      "  49: Diff=1.026095e-01, Abs=7.037943e+10\n",
      "  50: Diff=6.196636e-02, Abs=7.164111e+10\n",
      "  51: Diff=3.544645e-02, Abs=7.067509e+10\n",
      "  52: Diff=8.623526e-02, Abs=7.254738e+10\n",
      "  53: Diff=1.632099e-01, Abs=6.953514e+10\n",
      "  54: Diff=1.756473e-01, Abs=6.485713e+10\n",
      "  55: Diff=1.016912e-01, Abs=6.797516e+10\n",
      "  56: Diff=5.993096e-02, Abs=6.693846e+10\n",
      "  57: Diff=1.398082e-01, Abs=7.238880e+10\n",
      "  58: Diff=2.030103e-01, Abs=6.304544e+10\n",
      "  59: Diff=1.550954e-01, Abs=6.749064e+10\n",
      "  60: Diff=1.565287e-01, Abs=6.636239e+10\n",
      "  61: Diff=8.840519e-02, Abs=6.818304e+10\n",
      "  62: Diff=1.004778e-01, Abs=6.593466e+10\n",
      "  63: Diff=1.611778e-01, Abs=6.377440e+10\n",
      "  64: Diff=1.503024e-01, Abs=6.955760e+10\n",
      "  65: Diff=6.975029e-02, Abs=6.957902e+10\n",
      "  66: Diff=7.743419e-02, Abs=7.135242e+10\n",
      "  67: Diff=1.178571e-01, Abs=6.589423e+10\n",
      "  68: Diff=1.485400e-01, Abs=6.568412e+10\n",
      "  69: Diff=1.643242e-01, Abs=5.917102e+10\n",
      "  70: Diff=1.486603e-01, Abs=6.410381e+10\n",
      "  71: Diff=3.829659e-02, Abs=6.558844e+10\n",
      "  72: Diff=1.031157e-01, Abs=6.869208e+10\n",
      "  73: Diff=5.897836e-02, Abs=6.775927e+10\n",
      "  74: Diff=3.649712e-02, Abs=6.806063e+10\n",
      "  75: Diff=7.832022e-02, Abs=7.206940e+10\n",
      "  76: Diff=1.642114e-01, Abs=6.467545e+10\n",
      "  77: Diff=2.117735e-01, Abs=6.561106e+10\n",
      "  78: Diff=2.531272e-01, Abs=6.951233e+10\n",
      "  79: Diff=2.887887e-01, Abs=5.887958e+10\n",
      "  80: Diff=2.105979e-01, Abs=6.482441e+10\n",
      "  81: Diff=1.156667e-01, Abs=6.397638e+10\n",
      "  82: Diff=6.350364e-02, Abs=6.622409e+10\n",
      "  83: Diff=6.690140e-02, Abs=6.886376e+10\n",
      "  84: Diff=7.767743e-02, Abs=6.588594e+10\n",
      "  85: Diff=7.004709e-02, Abs=6.863820e+10\n",
      "  86: Diff=5.825800e-02, Abs=7.102185e+10\n",
      "  87: Diff=9.007119e-02, Abs=6.837199e+10\n",
      "  88: Diff=1.220303e-01, Abs=7.024201e+10\n",
      "  89: Diff=1.641504e-01, Abs=7.084899e+10\n",
      "  90: Diff=1.535391e-01, Abs=6.635490e+10\n",
      "  91: Diff=7.694734e-02, Abs=6.725821e+10\n",
      "  92: Diff=1.217731e-01, Abs=6.666754e+10\n",
      "  93: Diff=8.291557e-02, Abs=6.847546e+10\n",
      "  94: Diff=1.149222e-01, Abs=6.933379e+10\n",
      "  95: Diff=2.101897e-01, Abs=6.252330e+10\n",
      "  96: Diff=1.152239e-01, Abs=6.845603e+10\n",
      "  97: Diff=6.528085e-02, Abs=7.122030e+10\n",
      "  98: Diff=1.056543e-01, Abs=6.796362e+10\n",
      "  99: Diff=1.510233e-01, Abs=6.734195e+10\n",
      " 100: Diff=7.502136e-02, Abs=6.741588e+10\n"
     ]
    },
    {
     "name": "stderr",
     "output_type": "stream",
     "text": [
      "/home/jupyter/machine-learning-playground/01.essence_of_machine_learning/solver/logisticreg.py:8: RuntimeWarning: overflow encountered in exp\n",
      "  return 1 / (1 + np.exp(-x))\n"
     ]
    }
   ],
   "source": [
    "X_train = X[:-n_test]\n",
    "y_train = y[:-n_test]\n",
    "X_test = X[-n_test:]\n",
    "y_test = y[-n_test:]\n",
    "\n",
    "model = LogisticRegression(tol=0.01, max_iter=100, random_seed=1)\n",
    "model.fit(X_train, y_train)"
   ]
  },
  {
   "cell_type": "code",
   "execution_count": 6,
   "metadata": {},
   "outputs": [
    {
     "name": "stdout",
     "output_type": "stream",
     "text": [
      "Accuracy: 97/100 = 0.97\n"
     ]
    }
   ],
   "source": [
    "y_predict = model.predict(X_test)\n",
    "n_hits = (y_test == y_predict).sum()\n",
    "print(\"Accuracy: {0:d}/{1:d} = {2:.2f}\".format(n_hits, n_test, n_hits/n_test))"
   ]
  }
 ],
 "metadata": {
  "kernelspec": {
   "display_name": "Python 3",
   "language": "python",
   "name": "python3"
  },
  "language_info": {
   "codemirror_mode": {
    "name": "ipython",
    "version": 3
   },
   "file_extension": ".py",
   "mimetype": "text/x-python",
   "name": "python",
   "nbconvert_exporter": "python",
   "pygments_lexer": "ipython3",
   "version": "3.7.9"
  }
 },
 "nbformat": 4,
 "nbformat_minor": 4
}
